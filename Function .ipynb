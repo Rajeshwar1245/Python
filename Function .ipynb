{
  "nbformat": 4,
  "nbformat_minor": 0,
  "metadata": {
    "colab": {
      "provenance": []
    },
    "kernelspec": {
      "name": "python3",
      "display_name": "Python 3"
    },
    "language_info": {
      "name": "python"
    }
  },
  "cells": [
    {
      "cell_type": "markdown",
      "source": [
        "9 June"
      ],
      "metadata": {
        "id": "YObMt8CAd-fg"
      }
    },
    {
      "cell_type": "markdown",
      "source": [
        "Create a funtion which takes two numbers and adds them together"
      ],
      "metadata": {
        "id": "bedg2I1EcGkf"
      }
    },
    {
      "cell_type": "code",
      "execution_count": null,
      "metadata": {
        "id": "LvAkfsakXrnk"
      },
      "outputs": [],
      "source": [
        "def add(a,b): #a and b are parameters\n",
        "\n",
        "  sum = a+b\n",
        "\n",
        "  print(sum)"
      ]
    },
    {
      "cell_type": "code",
      "source": [
        "add(4,9) #4 and 9 are arguments to the parameter"
      ],
      "metadata": {
        "colab": {
          "base_uri": "https://localhost:8080/"
        },
        "id": "yU-DNItybF3c",
        "outputId": "783be1fa-9eba-4d81-dd67-bcc2a8303542"
      },
      "execution_count": null,
      "outputs": [
        {
          "output_type": "stream",
          "name": "stdout",
          "text": [
            "13\n"
          ]
        }
      ]
    },
    {
      "cell_type": "code",
      "source": [
        "add(7,9)"
      ],
      "metadata": {
        "colab": {
          "base_uri": "https://localhost:8080/"
        },
        "id": "YqMH4UQjbJRo",
        "outputId": "b3475362-922c-4d0c-f0bf-a975294f62f8"
      },
      "execution_count": null,
      "outputs": [
        {
          "output_type": "stream",
          "name": "stdout",
          "text": [
            "16\n"
          ]
        }
      ]
    },
    {
      "cell_type": "code",
      "source": [
        "add(-5,-7)"
      ],
      "metadata": {
        "colab": {
          "base_uri": "https://localhost:8080/"
        },
        "id": "44yVescqbMCQ",
        "outputId": "f22a460c-3104-415f-ca1e-ae8d1f3b3205"
      },
      "execution_count": null,
      "outputs": [
        {
          "output_type": "stream",
          "name": "stdout",
          "text": [
            "-12\n"
          ]
        }
      ]
    },
    {
      "cell_type": "markdown",
      "source": [
        "Create a funtion which takes 2 number and display the addition, subtraction, multiplication and divion of these two numbers\n",
        "\n",
        "\n",
        "\n"
      ],
      "metadata": {
        "id": "Z0ZWalnUcYv7"
      }
    },
    {
      "cell_type": "code",
      "source": [
        "def compute(a,b):\n",
        "  s=a+b\n",
        "  t=a-b\n",
        "  u=a*b\n",
        "  v=a/b\n",
        "\n",
        "  print(s,t,u,v)"
      ],
      "metadata": {
        "id": "mEvNuulBbRVQ"
      },
      "execution_count": null,
      "outputs": []
    },
    {
      "cell_type": "code",
      "source": [
        "compute(7,9)"
      ],
      "metadata": {
        "colab": {
          "base_uri": "https://localhost:8080/"
        },
        "id": "N4Y9nT89dMsg",
        "outputId": "d1c3b95f-4b68-4215-f1eb-a7a1b8c975db"
      },
      "execution_count": null,
      "outputs": [
        {
          "output_type": "stream",
          "name": "stdout",
          "text": [
            "16 -2 63 0.7777777777777778\n"
          ]
        }
      ]
    },
    {
      "cell_type": "markdown",
      "source": [
        "Create a funtion which displays the name, age and city of a candidate"
      ],
      "metadata": {
        "id": "33gKjf6eeCGj"
      }
    },
    {
      "cell_type": "code",
      "source": [
        "def info(name,age,city):\n",
        "  print(name,age,city)"
      ],
      "metadata": {
        "id": "vmHmUvnBdQQs"
      },
      "execution_count": null,
      "outputs": []
    },
    {
      "cell_type": "code",
      "source": [
        "info('Akash',22,'Kushinagar')"
      ],
      "metadata": {
        "colab": {
          "base_uri": "https://localhost:8080/"
        },
        "id": "55aNQDOceq7L",
        "outputId": "f407b492-6a64-424a-e8ea-f9d7ac8dc2c6"
      },
      "execution_count": null,
      "outputs": [
        {
          "output_type": "stream",
          "name": "stdout",
          "text": [
            "Akash 22 Kushinagar\n"
          ]
        }
      ]
    },
    {
      "cell_type": "code",
      "source": [
        "info('Meera',98,'Delhi')"
      ],
      "metadata": {
        "colab": {
          "base_uri": "https://localhost:8080/"
        },
        "id": "jJfkGji2fKUK",
        "outputId": "5166347f-ec36-471a-b009-8daecafd2cce"
      },
      "execution_count": null,
      "outputs": [
        {
          "output_type": "stream",
          "name": "stdout",
          "text": [
            "Meera 98 Delhi\n"
          ]
        }
      ]
    },
    {
      "cell_type": "markdown",
      "source": [
        "Types of Arguments\n",
        "\n",
        "1. Positional Arguments\n",
        "\n",
        "2. Default Arguments\n",
        "\n",
        "3. Arbitrary Arguments\n",
        "\n",
        "4. Keyword Arguments\n",
        "\n",
        "5. Arbitrary Keyword Arguments"
      ],
      "metadata": {
        "id": "Sog5qzjjfiyl"
      }
    },
    {
      "cell_type": "code",
      "source": [
        "#Positional arguments\n",
        "\n",
        "def name(firstname,lastname):\n",
        "  print(\"Hi your first name is\",firstname)"
      ],
      "metadata": {
        "id": "B60yhik6fclv"
      },
      "execution_count": null,
      "outputs": []
    },
    {
      "cell_type": "code",
      "source": [
        "name(\"Akash\",\"Kushwaha\")"
      ],
      "metadata": {
        "colab": {
          "base_uri": "https://localhost:8080/"
        },
        "id": "nXB_5AiZgBMe",
        "outputId": "2a78421d-b441-48db-cdb1-d32a64cfe7fa"
      },
      "execution_count": null,
      "outputs": [
        {
          "output_type": "stream",
          "name": "stdout",
          "text": [
            "Hi your first name is Akash\n"
          ]
        }
      ]
    },
    {
      "cell_type": "code",
      "source": [
        "#default arguments\n",
        "def greet(name,message=\"Hii how are you\"): #message is the default argument\n",
        "  print(name,message)"
      ],
      "metadata": {
        "id": "XbolAwfRgtia"
      },
      "execution_count": null,
      "outputs": []
    },
    {
      "cell_type": "code",
      "source": [
        "greet('Akash','Good evening')"
      ],
      "metadata": {
        "colab": {
          "base_uri": "https://localhost:8080/"
        },
        "id": "caTLjYKuh5R6",
        "outputId": "c602136d-819d-4c63-d5a4-376d61c87a97"
      },
      "execution_count": null,
      "outputs": [
        {
          "output_type": "stream",
          "name": "stdout",
          "text": [
            "Akash Good evening\n"
          ]
        }
      ]
    },
    {
      "cell_type": "code",
      "source": [
        "greet('Meera')"
      ],
      "metadata": {
        "colab": {
          "base_uri": "https://localhost:8080/"
        },
        "id": "bIdqUBO5iJpn",
        "outputId": "bc4c9d08-9483-4843-aed1-6d2b0b519b01"
      },
      "execution_count": null,
      "outputs": [
        {
          "output_type": "stream",
          "name": "stdout",
          "text": [
            "Meera Hii how are you\n"
          ]
        }
      ]
    },
    {
      "cell_type": "code",
      "source": [
        "greet(\"Mukesh\")"
      ],
      "metadata": {
        "colab": {
          "base_uri": "https://localhost:8080/"
        },
        "id": "0bwkCScCiN5X",
        "outputId": "16c81941-8830-4347-d85b-2e27d06e5a34"
      },
      "execution_count": null,
      "outputs": [
        {
          "output_type": "stream",
          "name": "stdout",
          "text": [
            "Mukesh Hii how are you\n"
          ]
        }
      ]
    },
    {
      "cell_type": "markdown",
      "source": [
        "Create a Function which takes name and salary as input and increase the salary is not provided , use default salary as 25000.Display the name and salary of the individual."
      ],
      "metadata": {
        "id": "rnoAhbSoii1U"
      }
    },
    {
      "cell_type": "code",
      "source": [
        "def info(name,salary=25000):\n",
        "  print(name,salary)"
      ],
      "metadata": {
        "id": "gGWFDv6HiXLf"
      },
      "execution_count": null,
      "outputs": []
    },
    {
      "cell_type": "code",
      "source": [
        "info('Akash',30000)"
      ],
      "metadata": {
        "colab": {
          "base_uri": "https://localhost:8080/"
        },
        "id": "Ivtmy214jfyl",
        "outputId": "91c04344-ded2-4f31-dfda-326871f7fe5c"
      },
      "execution_count": null,
      "outputs": [
        {
          "output_type": "stream",
          "name": "stdout",
          "text": [
            "Akash 30000\n"
          ]
        }
      ]
    },
    {
      "cell_type": "code",
      "source": [
        "info('Rekha')"
      ],
      "metadata": {
        "colab": {
          "base_uri": "https://localhost:8080/"
        },
        "id": "pal7DSuSjsVU",
        "outputId": "61806799-044d-423b-d66b-7857ab121632"
      },
      "execution_count": null,
      "outputs": [
        {
          "output_type": "stream",
          "name": "stdout",
          "text": [
            "Rekha 25000\n"
          ]
        }
      ]
    },
    {
      "cell_type": "code",
      "source": [
        "#arbitrart arguments -- *args , default type is tuple\n",
        "def add(*args):\n",
        "  print(type(args))\n",
        "  print(args)\n",
        "\n",
        "  sum=0\n",
        "  for num in args:\n",
        "    sum=sum+num\n",
        "  return sum"
      ],
      "metadata": {
        "id": "8p7U0WcVnhKa"
      },
      "execution_count": null,
      "outputs": []
    },
    {
      "cell_type": "code",
      "source": [
        "add(3,4)"
      ],
      "metadata": {
        "colab": {
          "base_uri": "https://localhost:8080/"
        },
        "id": "fSJmLu8mng6d",
        "outputId": "df1b97b4-e866-4a09-9d6b-6e2b59499844"
      },
      "execution_count": null,
      "outputs": [
        {
          "output_type": "stream",
          "name": "stdout",
          "text": [
            "<class 'tuple'>\n",
            "(3, 4)\n"
          ]
        },
        {
          "output_type": "execute_result",
          "data": {
            "text/plain": [
              "7"
            ]
          },
          "metadata": {},
          "execution_count": 26
        }
      ]
    },
    {
      "cell_type": "code",
      "source": [
        "add(3,8,9,-3,-5,12)"
      ],
      "metadata": {
        "colab": {
          "base_uri": "https://localhost:8080/"
        },
        "id": "PJpdkhOzngvX",
        "outputId": "bb836080-6db0-4146-ca9a-00a71a788a7d"
      },
      "execution_count": null,
      "outputs": [
        {
          "output_type": "stream",
          "name": "stdout",
          "text": [
            "<class 'tuple'>\n",
            "(3, 8, 9, -3, -5, 12)\n"
          ]
        },
        {
          "output_type": "execute_result",
          "data": {
            "text/plain": [
              "24"
            ]
          },
          "metadata": {},
          "execution_count": 27
        }
      ]
    },
    {
      "cell_type": "code",
      "source": [
        "def func(a,b,*args):\n",
        "  print(a)\n",
        "  print(b)\n",
        "  print(args)"
      ],
      "metadata": {
        "id": "c7vUVH-Svjxm"
      },
      "execution_count": null,
      "outputs": []
    },
    {
      "cell_type": "code",
      "source": [
        "func(5,7,568945)"
      ],
      "metadata": {
        "colab": {
          "base_uri": "https://localhost:8080/"
        },
        "id": "yn_wUlUHv2ch",
        "outputId": "b599dfb8-48d9-4b5b-b77a-0a38376d61fe"
      },
      "execution_count": null,
      "outputs": [
        {
          "output_type": "stream",
          "name": "stdout",
          "text": [
            "5\n",
            "7\n",
            "(568945,)\n"
          ]
        }
      ]
    },
    {
      "cell_type": "code",
      "source": [
        "func(5,7,5,6,8,9,4,5)"
      ],
      "metadata": {
        "colab": {
          "base_uri": "https://localhost:8080/"
        },
        "id": "JB7E5cL9wNnT",
        "outputId": "018b2403-1c36-43ec-830a-c56320b5f460"
      },
      "execution_count": null,
      "outputs": [
        {
          "output_type": "stream",
          "name": "stdout",
          "text": [
            "5\n",
            "7\n",
            "(5, 6, 8, 9, 4, 5)\n"
          ]
        }
      ]
    },
    {
      "cell_type": "code",
      "source": [
        "|#Keyword arguments\n",
        "def greet(name,age,message):\n",
        "  print(message,name,\"your age is\",age)"
      ],
      "metadata": {
        "id": "Y0vdyINqjyWU"
      },
      "execution_count": null,
      "outputs": []
    },
    {
      "cell_type": "code",
      "source": [
        "greet(name='Akash',age=99,message=\"Good evening\") #while calling the function, we need to provide the input in key-value format"
      ],
      "metadata": {
        "colab": {
          "base_uri": "https://localhost:8080/"
        },
        "id": "E_tMVBOrle2k",
        "outputId": "715d1cb4-9180-463d-c81f-9e7fcfd3d5bb"
      },
      "execution_count": null,
      "outputs": [
        {
          "output_type": "stream",
          "name": "stdout",
          "text": [
            "Good evening Akash your age is 99\n"
          ]
        }
      ]
    },
    {
      "cell_type": "code",
      "source": [
        "greet(age=99,message=\"Good evening\",name=\"Akash\") #while calling the function, we need to provide the input in key-value format"
      ],
      "metadata": {
        "colab": {
          "base_uri": "https://localhost:8080/"
        },
        "id": "wCkHvdCHlrOT",
        "outputId": "89131866-7fe2-42e8-98fd-687507c14ee7"
      },
      "execution_count": null,
      "outputs": [
        {
          "output_type": "stream",
          "name": "stdout",
          "text": [
            "Good evening Akash your age is 99\n"
          ]
        }
      ]
    },
    {
      "cell_type": "code",
      "source": [
        "greet(message=\"How are you\",name=\"Meera\",age=98)"
      ],
      "metadata": {
        "colab": {
          "base_uri": "https://localhost:8080/"
        },
        "id": "v2otvBc8nBju",
        "outputId": "58fcd278-59f2-44b6-b1cf-0c2568ebf645"
      },
      "execution_count": null,
      "outputs": [
        {
          "output_type": "stream",
          "name": "stdout",
          "text": [
            "How are you Meera your age is 98\n"
          ]
        }
      ]
    },
    {
      "cell_type": "code",
      "source": [
        "#Arbitrary Keyword Arguments -- **kwargs,  default type is dictonary\n",
        "def display(**kwargs):\n",
        "  print(type(kwargs))\n",
        "  print(kwargs)\n",
        "\n",
        "  for key, value in kwargs.items():\n",
        "    print(key,\"-->\",value)"
      ],
      "metadata": {
        "id": "-0GIg9ZSnXov"
      },
      "execution_count": null,
      "outputs": []
    },
    {
      "cell_type": "code",
      "source": [
        "display(name='Akash',age=99,city='Kushinagar')"
      ],
      "metadata": {
        "colab": {
          "base_uri": "https://localhost:8080/"
        },
        "id": "Z0MsIyQrzEF3",
        "outputId": "b102555c-4915-4486-adf4-b99125e7c586"
      },
      "execution_count": null,
      "outputs": [
        {
          "output_type": "stream",
          "name": "stdout",
          "text": [
            "<class 'dict'>\n",
            "{'name': 'Akash', 'age': 99, 'city': 'Kushinagar'}\n",
            "name --> Akash\n",
            "age --> 99\n",
            "city --> Kushinagar\n"
          ]
        }
      ]
    },
    {
      "cell_type": "code",
      "source": [],
      "metadata": {
        "id": "LYClFz4LzPbE"
      },
      "execution_count": null,
      "outputs": []
    }
  ]
}