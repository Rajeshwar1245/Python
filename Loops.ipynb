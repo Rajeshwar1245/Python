{
  "nbformat": 4,
  "nbformat_minor": 0,
  "metadata": {
    "colab": {
      "provenance": []
    },
    "kernelspec": {
      "name": "python3",
      "display_name": "Python 3"
    },
    "language_info": {
      "name": "python"
    }
  },
  "cells": [
    {
      "cell_type": "markdown",
      "source": [
        "2 May"
      ],
      "metadata": {
        "id": "pPKiA677H-kr"
      }
    },
    {
      "cell_type": "markdown",
      "source": [
        "Display the names of your friends one stored in the form of a list"
      ],
      "metadata": {
        "id": "cX0CLDp5LmhN"
      }
    },
    {
      "cell_type": "markdown",
      "source": [
        "#For loop"
      ],
      "metadata": {
        "id": "qE4a-5woag5i"
      }
    },
    {
      "cell_type": "code",
      "execution_count": null,
      "metadata": {
        "colab": {
          "base_uri": "https://localhost:8080/"
        },
        "id": "oldgH2YHLlM_",
        "outputId": "01048d9f-7dae-433c-f996-355b592c5521"
      },
      "outputs": [
        {
          "output_type": "stream",
          "name": "stdout",
          "text": [
            "George\n",
            "Catherine\n",
            "John\n",
            "Chirag\n",
            "Rishabh\n",
            "Tushar\n",
            "Sagar\n",
            "Alok\n"
          ]
        }
      ],
      "source": [
        "names=['George','Catherine','John','Chirag','Rishabh','Tushar','Sagar','Alok']\n",
        "\n",
        "for name in names: #name is an iterator\n",
        "  print(name)"
      ]
    },
    {
      "cell_type": "code",
      "source": [
        "fruits=['Apple','Mango','Banana','Grapes','Kivi']\n",
        "\n",
        "for fruit in fruits:\n",
        "  print(fruit)"
      ],
      "metadata": {
        "colab": {
          "base_uri": "https://localhost:8080/"
        },
        "id": "WE5UAipNMiOL",
        "outputId": "4312b8e4-bf61-4ed3-fa37-ae8e5e3045fa"
      },
      "execution_count": null,
      "outputs": [
        {
          "output_type": "stream",
          "name": "stdout",
          "text": [
            "Apple\n",
            "Mango\n",
            "Banana\n",
            "Grapes\n",
            "Kivi\n"
          ]
        }
      ]
    },
    {
      "cell_type": "code",
      "source": [
        "for i in fruits:\n",
        "  print(i)"
      ],
      "metadata": {
        "colab": {
          "base_uri": "https://localhost:8080/"
        },
        "id": "YA8koVJJNwKu",
        "outputId": "221c5b9c-b555-4d5f-d12e-43147f9712c4"
      },
      "execution_count": null,
      "outputs": [
        {
          "output_type": "stream",
          "name": "stdout",
          "text": [
            "Apple\n",
            "Mango\n",
            "Banana\n",
            "Grapes\n",
            "Kivi\n"
          ]
        }
      ]
    },
    {
      "cell_type": "markdown",
      "source": [
        "Display the first 10 whole numbers"
      ],
      "metadata": {
        "id": "mXu-0FbIPaJS"
      }
    },
    {
      "cell_type": "code",
      "source": [
        "for i in range(0,10): #bydefalt the step size will be 1\n",
        "  print(i)"
      ],
      "metadata": {
        "colab": {
          "base_uri": "https://localhost:8080/"
        },
        "id": "1FPS5KPdN3xn",
        "outputId": "b35ec0fa-e211-47fc-ef9d-2c3ae0a3428f"
      },
      "execution_count": null,
      "outputs": [
        {
          "output_type": "stream",
          "name": "stdout",
          "text": [
            "0\n",
            "1\n",
            "2\n",
            "3\n",
            "4\n",
            "5\n",
            "6\n",
            "7\n",
            "8\n",
            "9\n"
          ]
        }
      ]
    },
    {
      "cell_type": "code",
      "source": [
        "for i in range(0,10,2): #here step size is 2 - consequtive o/ps will have difference of 2\n",
        "  print(i)"
      ],
      "metadata": {
        "colab": {
          "base_uri": "https://localhost:8080/"
        },
        "id": "02VSk8PSPr9v",
        "outputId": "06d67df9-d5c8-4514-8879-ae059025e609"
      },
      "execution_count": null,
      "outputs": [
        {
          "output_type": "stream",
          "name": "stdout",
          "text": [
            "0\n",
            "2\n",
            "4\n",
            "6\n",
            "8\n"
          ]
        }
      ]
    },
    {
      "cell_type": "markdown",
      "source": [
        "Take a list of numbers and display all the even numbers from this list"
      ],
      "metadata": {
        "id": "QfkzP-V5FPR9"
      }
    },
    {
      "cell_type": "code",
      "source": [
        "my_list=[2,3,4,5,6,8,9]\n",
        "\n",
        "for i in my_list:\n",
        "  if i%2==0:\n",
        "    print(i,end=' ')"
      ],
      "metadata": {
        "id": "bVCylBfhQuiK",
        "colab": {
          "base_uri": "https://localhost:8080/"
        },
        "outputId": "d59886c5-1266-49d2-f423-0d579891f5bd"
      },
      "execution_count": null,
      "outputs": [
        {
          "output_type": "stream",
          "name": "stdout",
          "text": [
            "2 4 6 8 "
          ]
        }
      ]
    },
    {
      "cell_type": "markdown",
      "source": [
        "Take a list of numbers and display all the odd numbers from this list"
      ],
      "metadata": {
        "id": "0NqzLp6fF_q4"
      }
    },
    {
      "cell_type": "code",
      "source": [
        "my_list=[2,3,4,5,6,8,9]\n",
        "\n",
        "for i in my_list:\n",
        "  if i%2!=0:\n",
        "    print(i)"
      ],
      "metadata": {
        "colab": {
          "base_uri": "https://localhost:8080/"
        },
        "id": "Cih-qpcxFxeF",
        "outputId": "9a99d49e-fe83-43df-8139-77cd9bc97ac5"
      },
      "execution_count": null,
      "outputs": [
        {
          "output_type": "stream",
          "name": "stdout",
          "text": [
            "3\n",
            "5\n",
            "9\n"
          ]
        }
      ]
    },
    {
      "cell_type": "code",
      "source": [
        "my_list=[2,3,4,5,6,8,9]\n",
        "\n",
        "for i in my_list:\n",
        "  if i%2!=0:\n",
        "    print(i,end=' ')"
      ],
      "metadata": {
        "colab": {
          "base_uri": "https://localhost:8080/"
        },
        "id": "cUjSM3sZGTdo",
        "outputId": "a0170d83-f00b-402b-fe41-532f2e605f26"
      },
      "execution_count": null,
      "outputs": [
        {
          "output_type": "stream",
          "name": "stdout",
          "text": [
            "3 5 9 "
          ]
        }
      ]
    },
    {
      "cell_type": "markdown",
      "source": [
        "9 June"
      ],
      "metadata": {
        "id": "_Se5ofDHP-Jd"
      }
    },
    {
      "cell_type": "markdown",
      "source": [
        "#While loop\n",
        "\n",
        "Display all the numbers including 1 to 10"
      ],
      "metadata": {
        "id": "GVutfDSXQe1u"
      }
    },
    {
      "cell_type": "code",
      "source": [
        "a=1\n",
        "\n",
        "while a<=10:\n",
        "  print(a)\n",
        "  a=a+1"
      ],
      "metadata": {
        "colab": {
          "base_uri": "https://localhost:8080/"
        },
        "id": "1o0h3EPtGfud",
        "outputId": "1dc16137-e198-4594-bbc7-9effc6102a0f"
      },
      "execution_count": null,
      "outputs": [
        {
          "output_type": "stream",
          "name": "stdout",
          "text": [
            "1\n",
            "2\n",
            "3\n",
            "4\n",
            "5\n",
            "6\n",
            "7\n",
            "8\n",
            "9\n",
            "10\n"
          ]
        }
      ]
    },
    {
      "cell_type": "markdown",
      "source": [
        "Display all the numbers between 0 to 20 (both numbers included)"
      ],
      "metadata": {
        "id": "Ex2qqHRbR2jR"
      }
    },
    {
      "cell_type": "code",
      "source": [
        "a=0\n",
        "\n",
        "while a<=20:\n",
        "  print(a)\n",
        "  a=a+2"
      ],
      "metadata": {
        "colab": {
          "base_uri": "https://localhost:8080/"
        },
        "id": "b18JiYAWSi8V",
        "outputId": "9e24d2aa-2b3b-4ae5-b751-4c5a2894365f"
      },
      "execution_count": null,
      "outputs": [
        {
          "output_type": "stream",
          "name": "stdout",
          "text": [
            "0\n",
            "2\n",
            "4\n",
            "6\n",
            "8\n",
            "10\n",
            "12\n",
            "14\n",
            "16\n",
            "18\n",
            "20\n"
          ]
        }
      ]
    },
    {
      "cell_type": "markdown",
      "source": [
        "Controlling the flow in loops\n",
        "\n",
        "1. Break statement - breaks the loop when an element is satisfying a given condition\n",
        "\n",
        "2. Continue statement - the loop continues to iterate and only the element in the given condition gets skipped"
      ],
      "metadata": {
        "id": "gri85S0gTOWR"
      }
    },
    {
      "cell_type": "markdown",
      "source": [
        "#Break statement"
      ],
      "metadata": {
        "id": "LrAzT2r4aXpb"
      }
    },
    {
      "cell_type": "code",
      "source": [
        "fruit=['Mango','Apple','Banana','PineApple','Guava','Grapes','Potato','Tomato']\n",
        "\n",
        "for i in fruit:\n",
        "  if i=='Guava': #if the fruit bacomes Guava (4th iteration)\n",
        "    break\n",
        "  print(i)\n",
        ""
      ],
      "metadata": {
        "colab": {
          "base_uri": "https://localhost:8080/"
        },
        "id": "jlBLTfC4XzbK",
        "outputId": "a5ad3165-3384-4f83-ef19-b1d13af4799e"
      },
      "execution_count": 18,
      "outputs": [
        {
          "output_type": "stream",
          "name": "stdout",
          "text": [
            "Mango\n",
            "Apple\n",
            "Banana\n",
            "PineApple\n"
          ]
        }
      ]
    },
    {
      "cell_type": "code",
      "source": [
        "name='Aashutosh'\n",
        "\n",
        "for i in name:\n",
        "  if i=='t':\n",
        "    break\n",
        "  print(i,end='')"
      ],
      "metadata": {
        "colab": {
          "base_uri": "https://localhost:8080/"
        },
        "id": "xeRe05GqX0U0",
        "outputId": "d8883014-c66e-418c-956f-b4b4d850dba3"
      },
      "execution_count": 21,
      "outputs": [
        {
          "output_type": "stream",
          "name": "stdout",
          "text": [
            "Aashu"
          ]
        }
      ]
    },
    {
      "cell_type": "code",
      "source": [
        "fruit=['Mango','Apple','Banana','PineApple','Guava','Grapes','Potato','Tomato']\n",
        "\n",
        "for i in fruit:\n",
        "  if i=='Mango':\n",
        "    break\n",
        "  print(i)"
      ],
      "metadata": {
        "id": "6TJ3bKqQYoSN"
      },
      "execution_count": 22,
      "outputs": []
    },
    {
      "cell_type": "markdown",
      "source": [
        "#Continue statement"
      ],
      "metadata": {
        "id": "4w7vLIn6aKI4"
      }
    },
    {
      "cell_type": "code",
      "source": [
        "fruit=['Mango','Apple','Banana','PineApple','Guava','Grapes','Potato','Tomato']\n",
        "\n",
        "for i in fruit:\n",
        "  if i=='Guava': #Guava will be skipped but the iteration will not stop\n",
        "    continue\n",
        "  print(i)"
      ],
      "metadata": {
        "colab": {
          "base_uri": "https://localhost:8080/"
        },
        "id": "HJcFnT-nZbmH",
        "outputId": "32cb96e5-e89f-412c-8cd3-d44e578bd17b"
      },
      "execution_count": 24,
      "outputs": [
        {
          "output_type": "stream",
          "name": "stdout",
          "text": [
            "Mango\n",
            "Apple\n",
            "Banana\n",
            "PineApple\n",
            "Grapes\n",
            "Potato\n",
            "Tomato\n"
          ]
        }
      ]
    },
    {
      "cell_type": "code",
      "source": [
        "fruit=['Mango','Apple','Banana','PineApple','Guava','Grapes','Potato','Tomato']\n",
        "\n",
        "for i in fruit:\n",
        "  if i=='Mango':\n",
        "    continue\n",
        "  print(i)"
      ],
      "metadata": {
        "colab": {
          "base_uri": "https://localhost:8080/"
        },
        "id": "wPh2NiXuZ8En",
        "outputId": "08704b6a-9c32-4ba0-9513-85643d8bb698"
      },
      "execution_count": 25,
      "outputs": [
        {
          "output_type": "stream",
          "name": "stdout",
          "text": [
            "Apple\n",
            "Banana\n",
            "PineApple\n",
            "Guava\n",
            "Grapes\n",
            "Potato\n",
            "Tomato\n"
          ]
        }
      ]
    },
    {
      "cell_type": "code",
      "source": [],
      "metadata": {
        "id": "dVbMUrjGat2e"
      },
      "execution_count": null,
      "outputs": []
    }
  ]
}