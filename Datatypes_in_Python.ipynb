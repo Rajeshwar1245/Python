{
  "cells": [
    {
      "cell_type": "markdown",
      "metadata": {
        "id": "pnfsY39bIgJA"
      },
      "source": [
        "We are learning diffrent datatypes in Python"
      ]
    },
    {
      "cell_type": "code",
      "execution_count": 552,
      "metadata": {
        "id": "qE5OTH4CIjNP"
      },
      "outputs": [],
      "source": [
        "#comments << comment are not part of executable code, they are added only to increase the readability"
      ]
    },
    {
      "cell_type": "markdown",
      "metadata": {
        "id": "6DXM-dLgMpoX"
      },
      "source": [
        "ways in which we can execute the code cell\n",
        "1. shift=enter\n",
        "2. ctrl=enter\n",
        "3. play button"
      ]
    },
    {
      "cell_type": "code",
      "execution_count": 553,
      "metadata": {
        "id": "3JdGCkfTLosV"
      },
      "outputs": [],
      "source": [
        "  a=155"
      ]
    },
    {
      "cell_type": "code",
      "execution_count": 554,
      "metadata": {
        "colab": {
          "base_uri": "https://localhost:8080/"
        },
        "id": "AWdl4d0ZNU9h",
        "outputId": "479124bb-8be1-4233-f31c-3abb1a28422d"
      },
      "outputs": [
        {
          "output_type": "stream",
          "name": "stdout",
          "text": [
            "155\n"
          ]
        }
      ],
      "source": [
        "print(a)"
      ]
    },
    {
      "cell_type": "code",
      "execution_count": 555,
      "metadata": {
        "colab": {
          "base_uri": "https://localhost:8080/"
        },
        "id": "XCUUPG-rNUw_",
        "outputId": "4738dced-37c0-4efc-8011-f51b9c58de64"
      },
      "outputs": [
        {
          "output_type": "execute_result",
          "data": {
            "text/plain": [
              "int"
            ]
          },
          "metadata": {},
          "execution_count": 555
        }
      ],
      "source": [
        "type(a)"
      ]
    },
    {
      "cell_type": "code",
      "execution_count": 556,
      "metadata": {
        "id": "O3yJAj6vNk07"
      },
      "outputs": [],
      "source": [
        "b=-8.9"
      ]
    },
    {
      "cell_type": "code",
      "execution_count": 557,
      "metadata": {
        "colab": {
          "base_uri": "https://localhost:8080/"
        },
        "id": "DfAZq8JCNqdR",
        "outputId": "5f0810d4-7010-4838-e8f6-6e0d9e55f580"
      },
      "outputs": [
        {
          "output_type": "stream",
          "name": "stdout",
          "text": [
            "-8.9\n"
          ]
        }
      ],
      "source": [
        "print(b)"
      ]
    },
    {
      "cell_type": "code",
      "execution_count": 558,
      "metadata": {
        "colab": {
          "base_uri": "https://localhost:8080/"
        },
        "id": "hFgJhLXyNtjR",
        "outputId": "335eefdc-718c-408f-f1a8-010cda521f2f"
      },
      "outputs": [
        {
          "output_type": "execute_result",
          "data": {
            "text/plain": [
              "float"
            ]
          },
          "metadata": {},
          "execution_count": 558
        }
      ],
      "source": [
        "type(b)"
      ]
    },
    {
      "cell_type": "code",
      "execution_count": 559,
      "metadata": {
        "id": "RGRFeFYcNvzR"
      },
      "outputs": [],
      "source": [
        "c=4-2j"
      ]
    },
    {
      "cell_type": "code",
      "execution_count": 560,
      "metadata": {
        "colab": {
          "base_uri": "https://localhost:8080/"
        },
        "id": "ZVOEDYQqN9xa",
        "outputId": "06b1e3b4-e48c-45c5-a83a-758442dd953d"
      },
      "outputs": [
        {
          "output_type": "stream",
          "name": "stdout",
          "text": [
            "(4-2j)\n"
          ]
        }
      ],
      "source": [
        "print(c)"
      ]
    },
    {
      "cell_type": "code",
      "execution_count": 561,
      "metadata": {
        "colab": {
          "base_uri": "https://localhost:8080/"
        },
        "id": "PFwdwUiHN_eS",
        "outputId": "0b3b18cb-aa74-41ef-e769-c0781a5d83ec"
      },
      "outputs": [
        {
          "output_type": "execute_result",
          "data": {
            "text/plain": [
              "complex"
            ]
          },
          "metadata": {},
          "execution_count": 561
        }
      ],
      "source": [
        "type(c)"
      ]
    },
    {
      "cell_type": "code",
      "execution_count": 562,
      "metadata": {
        "id": "dzWe9PhaOC-i"
      },
      "outputs": [],
      "source": [
        "d=\"indian ocean\""
      ]
    },
    {
      "cell_type": "code",
      "execution_count": 563,
      "metadata": {
        "colab": {
          "base_uri": "https://localhost:8080/"
        },
        "id": "DTudPTfzOYKR",
        "outputId": "f2866b12-ccaf-4f75-9cec-b2d8649991b6"
      },
      "outputs": [
        {
          "output_type": "stream",
          "name": "stdout",
          "text": [
            "indian ocean\n"
          ]
        }
      ],
      "source": [
        "print(d)"
      ]
    },
    {
      "cell_type": "code",
      "execution_count": 564,
      "metadata": {
        "colab": {
          "base_uri": "https://localhost:8080/"
        },
        "id": "eoYO18JCOb7p",
        "outputId": "d4e66deb-b359-44d0-ff7a-c2f382bc0623"
      },
      "outputs": [
        {
          "output_type": "execute_result",
          "data": {
            "text/plain": [
              "str"
            ]
          },
          "metadata": {},
          "execution_count": 564
        }
      ],
      "source": [
        "type(d)"
      ]
    },
    {
      "cell_type": "code",
      "execution_count": 565,
      "metadata": {
        "id": "-qiVrW9TOj0h"
      },
      "outputs": [],
      "source": [
        "e=\"Akash\""
      ]
    },
    {
      "cell_type": "code",
      "execution_count": 566,
      "metadata": {
        "colab": {
          "base_uri": "https://localhost:8080/"
        },
        "id": "zV0_RVKmOqDo",
        "outputId": "b6c2be12-a343-4864-ed10-ada90ef881ff"
      },
      "outputs": [
        {
          "output_type": "stream",
          "name": "stdout",
          "text": [
            "Akash\n"
          ]
        }
      ],
      "source": [
        "print(e)"
      ]
    },
    {
      "cell_type": "code",
      "execution_count": 567,
      "metadata": {
        "colab": {
          "base_uri": "https://localhost:8080/"
        },
        "id": "9SagVZSyO4MY",
        "outputId": "be13649d-863b-4380-d22b-8d0b9acca661"
      },
      "outputs": [
        {
          "output_type": "execute_result",
          "data": {
            "text/plain": [
              "str"
            ]
          },
          "metadata": {},
          "execution_count": 567
        }
      ],
      "source": [
        "type(e)"
      ]
    },
    {
      "cell_type": "code",
      "execution_count": 568,
      "metadata": {
        "id": "dKeIbeNVO8u8"
      },
      "outputs": [],
      "source": [
        "num=\"-4.895\""
      ]
    },
    {
      "cell_type": "code",
      "execution_count": 569,
      "metadata": {
        "colab": {
          "base_uri": "https://localhost:8080/"
        },
        "id": "a0E7p6_hPNsH",
        "outputId": "b1c9a602-7c8d-4ccf-c65c-2a3d5514a3e3"
      },
      "outputs": [
        {
          "output_type": "stream",
          "name": "stdout",
          "text": [
            "-4.895\n"
          ]
        }
      ],
      "source": [
        "print(num)"
      ]
    },
    {
      "cell_type": "code",
      "execution_count": 570,
      "metadata": {
        "colab": {
          "base_uri": "https://localhost:8080/"
        },
        "id": "aqePnoquPQXP",
        "outputId": "b1280b21-5677-4e40-f844-e5d225677975"
      },
      "outputs": [
        {
          "output_type": "execute_result",
          "data": {
            "text/plain": [
              "str"
            ]
          },
          "metadata": {},
          "execution_count": 570
        }
      ],
      "source": [
        "type(num)"
      ]
    },
    {
      "cell_type": "code",
      "execution_count": 571,
      "metadata": {
        "id": "V1saI3UCPS1n"
      },
      "outputs": [],
      "source": [
        "my_list=['Apple','Russia','Mango','india',45,52,-4.5,-3.8]"
      ]
    },
    {
      "cell_type": "code",
      "execution_count": 572,
      "metadata": {
        "colab": {
          "base_uri": "https://localhost:8080/"
        },
        "id": "VRbNKks1P5Yl",
        "outputId": "f97606eb-1e99-4576-f005-74c2ab095585"
      },
      "outputs": [
        {
          "output_type": "stream",
          "name": "stdout",
          "text": [
            "['Apple', 'Russia', 'Mango', 'india', 45, 52, -4.5, -3.8]\n"
          ]
        }
      ],
      "source": [
        "print(my_list)"
      ]
    },
    {
      "cell_type": "code",
      "execution_count": 573,
      "metadata": {
        "colab": {
          "base_uri": "https://localhost:8080/"
        },
        "id": "eteLnV-PQAiV",
        "outputId": "b6a311f0-f2af-4182-97b9-fdbf5ea8a686"
      },
      "outputs": [
        {
          "output_type": "execute_result",
          "data": {
            "text/plain": [
              "list"
            ]
          },
          "metadata": {},
          "execution_count": 573
        }
      ],
      "source": [
        "type(my_list)"
      ]
    },
    {
      "cell_type": "code",
      "execution_count": 574,
      "metadata": {
        "id": "Utfm4emFQRWL"
      },
      "outputs": [],
      "source": [
        "new_list=[12,8,9,56,324,45]"
      ]
    },
    {
      "cell_type": "code",
      "execution_count": 575,
      "metadata": {
        "colab": {
          "base_uri": "https://localhost:8080/"
        },
        "id": "ucuMFFBFQ4LX",
        "outputId": "6d1afcfa-72cf-42b3-9328-77e7efc6abc0"
      },
      "outputs": [
        {
          "output_type": "stream",
          "name": "stdout",
          "text": [
            "[12, 8, 9, 56, 324, 45]\n"
          ]
        }
      ],
      "source": [
        "print(new_list)"
      ]
    },
    {
      "cell_type": "code",
      "execution_count": 576,
      "metadata": {
        "colab": {
          "base_uri": "https://localhost:8080/"
        },
        "id": "XQ8hTpvOREQE",
        "outputId": "75e4b5cd-9b23-4f58-f61f-b1ec3a54ac03"
      },
      "outputs": [
        {
          "output_type": "execute_result",
          "data": {
            "text/plain": [
              "list"
            ]
          },
          "metadata": {},
          "execution_count": 576
        }
      ],
      "source": [
        "type(new_list)"
      ]
    },
    {
      "cell_type": "code",
      "execution_count": 577,
      "metadata": {
        "id": "Xpn7YAp1RH7E"
      },
      "outputs": [],
      "source": [
        "t=('Apple','Russia','Mango','india',45,52,-4.5,-3.8)"
      ]
    },
    {
      "cell_type": "code",
      "execution_count": 578,
      "metadata": {
        "colab": {
          "base_uri": "https://localhost:8080/"
        },
        "id": "vf7-LNF2R7db",
        "outputId": "779086ad-c694-491e-abfc-50d39afa81ae"
      },
      "outputs": [
        {
          "output_type": "stream",
          "name": "stdout",
          "text": [
            "('Apple', 'Russia', 'Mango', 'india', 45, 52, -4.5, -3.8)\n"
          ]
        }
      ],
      "source": [
        "print(t)"
      ]
    },
    {
      "cell_type": "code",
      "execution_count": 579,
      "metadata": {
        "colab": {
          "base_uri": "https://localhost:8080/"
        },
        "id": "2xx6XhxjR-MK",
        "outputId": "1483bcfe-0de7-4d03-8d5d-9d5f50deab6d"
      },
      "outputs": [
        {
          "output_type": "execute_result",
          "data": {
            "text/plain": [
              "tuple"
            ]
          },
          "metadata": {},
          "execution_count": 579
        }
      ],
      "source": [
        "type(t)"
      ]
    },
    {
      "cell_type": "markdown",
      "metadata": {
        "id": "FdC4HA8xXx4n"
      },
      "source": [
        "Operation in Lists and Strings\n",
        "1. Concatination\n",
        "2. Indexing\n",
        "3. Slicing"
      ]
    },
    {
      "cell_type": "code",
      "execution_count": 580,
      "metadata": {
        "colab": {
          "base_uri": "https://localhost:8080/"
        },
        "id": "pf2ikiwISAqi",
        "outputId": "88131c39-0b4e-43b6-f28b-1a5be907fa46"
      },
      "outputs": [
        {
          "output_type": "stream",
          "name": "stdout",
          "text": [
            "MyDestop\n"
          ]
        }
      ],
      "source": [
        "#Concatination\n",
        "a='My'\n",
        "b='Destop'\n",
        "\n",
        "print(a+b)"
      ]
    },
    {
      "cell_type": "code",
      "execution_count": 581,
      "metadata": {
        "colab": {
          "base_uri": "https://localhost:8080/"
        },
        "id": "OrLvWiNCYnfr",
        "outputId": "d8c69ec9-77eb-4542-f444-e495a24e9206"
      },
      "outputs": [
        {
          "output_type": "stream",
          "name": "stdout",
          "text": [
            "My Destop\n"
          ]
        }
      ],
      "source": [
        "print(a+' '+b)"
      ]
    },
    {
      "cell_type": "code",
      "execution_count": 582,
      "metadata": {
        "colab": {
          "base_uri": "https://localhost:8080/"
        },
        "id": "OJuvIg3TY0-S",
        "outputId": "f020d5ee-a6dc-47b5-88d2-29e4193e7dfe"
      },
      "outputs": [
        {
          "output_type": "stream",
          "name": "stdout",
          "text": [
            "Rajeshwar Kushwaha Raju\n"
          ]
        }
      ],
      "source": [
        "first_name='Rajeshwar'\n",
        "middle_name='Kushwaha'\n",
        "last_name='Raju'\n",
        "\n",
        "print(first_name+' '+middle_name+' '+last_name)"
      ]
    },
    {
      "cell_type": "code",
      "execution_count": 583,
      "metadata": {
        "colab": {
          "base_uri": "https://localhost:8080/"
        },
        "id": "8qCHN5mGZsH6",
        "outputId": "9071d139-a3a2-4f5d-bd49-45734642aee0"
      },
      "outputs": [
        {
          "output_type": "stream",
          "name": "stdout",
          "text": [
            "[1, 2, 3, 4, 5, 6, 'Mango', 'Apple']\n"
          ]
        }
      ],
      "source": [
        "#Concatination in Lists\n",
        "l1=[1,2,3,4,5,6]\n",
        "l2=['Mango','Apple']\n",
        "\n",
        "print(l1+l2)"
      ]
    },
    {
      "cell_type": "code",
      "execution_count": 584,
      "metadata": {
        "colab": {
          "base_uri": "https://localhost:8080/"
        },
        "id": "vh1AJ4Ndaspu",
        "outputId": "4c1614d3-161a-4bb3-abb5-fafa00ab43b9"
      },
      "outputs": [
        {
          "output_type": "stream",
          "name": "stdout",
          "text": [
            "['Mango', 'Apple', 1, 2, 3, 4, 5, 6]\n"
          ]
        }
      ],
      "source": [
        "print(l2+l1)"
      ]
    },
    {
      "cell_type": "code",
      "execution_count": 585,
      "metadata": {
        "id": "e4lTfFldbUXb"
      },
      "outputs": [],
      "source": [
        "#Indexing in strings"
      ]
    },
    {
      "cell_type": "code",
      "execution_count": 586,
      "metadata": {
        "id": "9KI6_29dhIge"
      },
      "outputs": [],
      "source": [
        "word='Indian Ocean'"
      ]
    },
    {
      "cell_type": "code",
      "execution_count": 587,
      "metadata": {
        "colab": {
          "base_uri": "https://localhost:8080/",
          "height": 35
        },
        "id": "DU7ZUnCYhPgb",
        "outputId": "8617fd96-0d9b-456a-d175-54f69811938c"
      },
      "outputs": [
        {
          "output_type": "execute_result",
          "data": {
            "text/plain": [
              "'e'"
            ],
            "application/vnd.google.colaboratory.intrinsic+json": {
              "type": "string"
            }
          },
          "metadata": {},
          "execution_count": 587
        }
      ],
      "source": [
        "word[9]"
      ]
    },
    {
      "cell_type": "code",
      "execution_count": 588,
      "metadata": {
        "colab": {
          "base_uri": "https://localhost:8080/",
          "height": 35
        },
        "id": "NgLaxuJfhUbk",
        "outputId": "4a3208e8-d3fc-4a8a-86de-0469d62b8c60"
      },
      "outputs": [
        {
          "output_type": "execute_result",
          "data": {
            "text/plain": [
              "'e'"
            ],
            "application/vnd.google.colaboratory.intrinsic+json": {
              "type": "string"
            }
          },
          "metadata": {},
          "execution_count": 588
        }
      ],
      "source": [
        "word[-3]"
      ]
    },
    {
      "cell_type": "code",
      "execution_count": 589,
      "metadata": {
        "colab": {
          "base_uri": "https://localhost:8080/",
          "height": 35
        },
        "id": "rCmBNnJ4hYwj",
        "outputId": "95a0ab09-7d3d-48c3-a5f5-09552bd23868"
      },
      "outputs": [
        {
          "output_type": "execute_result",
          "data": {
            "text/plain": [
              "'d'"
            ],
            "application/vnd.google.colaboratory.intrinsic+json": {
              "type": "string"
            }
          },
          "metadata": {},
          "execution_count": 589
        }
      ],
      "source": [
        "word[2]"
      ]
    },
    {
      "cell_type": "code",
      "execution_count": 590,
      "metadata": {
        "colab": {
          "base_uri": "https://localhost:8080/",
          "height": 35
        },
        "id": "ijEzvOTMhl3l",
        "outputId": "65e06040-11ba-4c98-be07-da233bf61e85"
      },
      "outputs": [
        {
          "output_type": "execute_result",
          "data": {
            "text/plain": [
              "'d'"
            ],
            "application/vnd.google.colaboratory.intrinsic+json": {
              "type": "string"
            }
          },
          "metadata": {},
          "execution_count": 590
        }
      ],
      "source": [
        "word[-10]"
      ]
    },
    {
      "cell_type": "code",
      "execution_count": 591,
      "metadata": {
        "colab": {
          "base_uri": "https://localhost:8080/",
          "height": 35
        },
        "id": "tVAS7KM4h8SL",
        "outputId": "3c9debdc-b241-47d0-a03f-5d904cedffe8"
      },
      "outputs": [
        {
          "output_type": "execute_result",
          "data": {
            "text/plain": [
              "'O'"
            ],
            "application/vnd.google.colaboratory.intrinsic+json": {
              "type": "string"
            }
          },
          "metadata": {},
          "execution_count": 591
        }
      ],
      "source": [
        "word[-5]"
      ]
    },
    {
      "cell_type": "code",
      "execution_count": 592,
      "metadata": {
        "colab": {
          "base_uri": "https://localhost:8080/",
          "height": 35
        },
        "id": "ppkTMGwvh-9j",
        "outputId": "5f53f3b6-ad72-4928-a8ec-927962ec7529"
      },
      "outputs": [
        {
          "output_type": "execute_result",
          "data": {
            "text/plain": [
              "'O'"
            ],
            "application/vnd.google.colaboratory.intrinsic+json": {
              "type": "string"
            }
          },
          "metadata": {},
          "execution_count": 592
        }
      ],
      "source": [
        "word[7]"
      ]
    },
    {
      "cell_type": "code",
      "execution_count": 593,
      "metadata": {
        "id": "p1zA-k3HiF1r"
      },
      "outputs": [],
      "source": [
        "#Indexing in Lists"
      ]
    },
    {
      "cell_type": "code",
      "execution_count": 594,
      "metadata": {
        "id": "HMyrvA4JiQE6"
      },
      "outputs": [],
      "source": [
        "l_new=['AI','Data Science','Mango','Pineapple','Python','PySparl',5,6,7,8,9,2,3,4]"
      ]
    },
    {
      "cell_type": "code",
      "execution_count": 595,
      "metadata": {
        "colab": {
          "base_uri": "https://localhost:8080/",
          "height": 35
        },
        "id": "m00PVIAci6C4",
        "outputId": "a8e28a6a-92df-48d3-8d96-776babfba93f"
      },
      "outputs": [
        {
          "output_type": "execute_result",
          "data": {
            "text/plain": [
              "'Mango'"
            ],
            "application/vnd.google.colaboratory.intrinsic+json": {
              "type": "string"
            }
          },
          "metadata": {},
          "execution_count": 595
        }
      ],
      "source": [
        "l_new[2]"
      ]
    },
    {
      "cell_type": "code",
      "execution_count": 596,
      "metadata": {
        "colab": {
          "base_uri": "https://localhost:8080/",
          "height": 35
        },
        "id": "vZJFReCOjAy3",
        "outputId": "dc047d57-44c5-4a3d-e7f3-9b6aaddbcff6"
      },
      "outputs": [
        {
          "output_type": "execute_result",
          "data": {
            "text/plain": [
              "'Mango'"
            ],
            "application/vnd.google.colaboratory.intrinsic+json": {
              "type": "string"
            }
          },
          "metadata": {},
          "execution_count": 596
        }
      ],
      "source": [
        "l_new[-12]"
      ]
    },
    {
      "cell_type": "code",
      "execution_count": 597,
      "metadata": {
        "colab": {
          "base_uri": "https://localhost:8080/",
          "height": 35
        },
        "id": "2R5D2_ibjM9n",
        "outputId": "3250d4bc-75e7-41d4-d463-9890ecc6b8b6"
      },
      "outputs": [
        {
          "output_type": "execute_result",
          "data": {
            "text/plain": [
              "'Python'"
            ],
            "application/vnd.google.colaboratory.intrinsic+json": {
              "type": "string"
            }
          },
          "metadata": {},
          "execution_count": 597
        }
      ],
      "source": [
        "l_new[4]"
      ]
    },
    {
      "cell_type": "code",
      "execution_count": 598,
      "metadata": {
        "colab": {
          "base_uri": "https://localhost:8080/",
          "height": 35
        },
        "id": "7L_fo9qLjS4m",
        "outputId": "8d808f51-3a71-4739-a312-c9bf455ed976"
      },
      "outputs": [
        {
          "output_type": "execute_result",
          "data": {
            "text/plain": [
              "'Python'"
            ],
            "application/vnd.google.colaboratory.intrinsic+json": {
              "type": "string"
            }
          },
          "metadata": {},
          "execution_count": 598
        }
      ],
      "source": [
        "l_new[-10]"
      ]
    },
    {
      "cell_type": "code",
      "execution_count": 599,
      "metadata": {
        "colab": {
          "base_uri": "https://localhost:8080/"
        },
        "id": "v9rrdTA9jZ3u",
        "outputId": "dfce8f0d-0304-4cbc-893d-86f0a0aeb98e"
      },
      "outputs": [
        {
          "output_type": "execute_result",
          "data": {
            "text/plain": [
              "9"
            ]
          },
          "metadata": {},
          "execution_count": 599
        }
      ],
      "source": [
        "l_new[10]"
      ]
    },
    {
      "cell_type": "code",
      "execution_count": 600,
      "metadata": {
        "colab": {
          "base_uri": "https://localhost:8080/"
        },
        "id": "l7QcLiL2jg0P",
        "outputId": "6ba285f4-94c0-42d4-c2ef-de6dd9297ec1"
      },
      "outputs": [
        {
          "output_type": "execute_result",
          "data": {
            "text/plain": [
              "9"
            ]
          },
          "metadata": {},
          "execution_count": 600
        }
      ],
      "source": [
        "l_new[-4]"
      ]
    },
    {
      "cell_type": "code",
      "execution_count": 601,
      "metadata": {
        "id": "xH82GNeBjzAW"
      },
      "outputs": [],
      "source": [
        "#Slicing in strings\n",
        "a='United Nations'"
      ]
    },
    {
      "cell_type": "code",
      "execution_count": 602,
      "metadata": {
        "colab": {
          "base_uri": "https://localhost:8080/",
          "height": 35
        },
        "id": "67X0KtP5QzZC",
        "outputId": "80e98217-47b1-44c4-e276-e5a966ba4437"
      },
      "outputs": [
        {
          "output_type": "execute_result",
          "data": {
            "text/plain": [
              "'United'"
            ],
            "application/vnd.google.colaboratory.intrinsic+json": {
              "type": "string"
            }
          },
          "metadata": {},
          "execution_count": 602
        }
      ],
      "source": [
        "a[0:6]"
      ]
    },
    {
      "cell_type": "code",
      "execution_count": 603,
      "metadata": {
        "colab": {
          "base_uri": "https://localhost:8080/",
          "height": 35
        },
        "id": "Brz2koplQ4Ip",
        "outputId": "061101a0-ce6e-4413-96f9-24c74aad448f"
      },
      "outputs": [
        {
          "output_type": "execute_result",
          "data": {
            "text/plain": [
              "'United'"
            ],
            "application/vnd.google.colaboratory.intrinsic+json": {
              "type": "string"
            }
          },
          "metadata": {},
          "execution_count": 603
        }
      ],
      "source": [
        "a[-14:-8]"
      ]
    },
    {
      "cell_type": "code",
      "execution_count": 604,
      "metadata": {
        "colab": {
          "base_uri": "https://localhost:8080/",
          "height": 35
        },
        "id": "mjp3A3x7RAOh",
        "outputId": "915dc90d-ba86-49d1-8b57-2ff5329a7abc"
      },
      "outputs": [
        {
          "output_type": "execute_result",
          "data": {
            "text/plain": [
              "'Nations'"
            ],
            "application/vnd.google.colaboratory.intrinsic+json": {
              "type": "string"
            }
          },
          "metadata": {},
          "execution_count": 604
        }
      ],
      "source": [
        "a[7: ]"
      ]
    },
    {
      "cell_type": "code",
      "execution_count": 605,
      "metadata": {
        "colab": {
          "base_uri": "https://localhost:8080/",
          "height": 35
        },
        "id": "vzLPk8H8RF2k",
        "outputId": "416b8846-90b2-42d7-aab0-df1b5438eb44"
      },
      "outputs": [
        {
          "output_type": "execute_result",
          "data": {
            "text/plain": [
              "'Nations'"
            ],
            "application/vnd.google.colaboratory.intrinsic+json": {
              "type": "string"
            }
          },
          "metadata": {},
          "execution_count": 605
        }
      ],
      "source": [
        "a[-7: ]"
      ]
    },
    {
      "cell_type": "code",
      "execution_count": 606,
      "metadata": {
        "colab": {
          "base_uri": "https://localhost:8080/",
          "height": 35
        },
        "id": "7b2yoXNRRJwY",
        "outputId": "43532489-767a-4949-d7b7-e8d9812dd5f6"
      },
      "outputs": [
        {
          "output_type": "execute_result",
          "data": {
            "text/plain": [
              "'ted Nation'"
            ],
            "application/vnd.google.colaboratory.intrinsic+json": {
              "type": "string"
            }
          },
          "metadata": {},
          "execution_count": 606
        }
      ],
      "source": [
        "a[3:13]"
      ]
    },
    {
      "cell_type": "code",
      "execution_count": 607,
      "metadata": {
        "colab": {
          "base_uri": "https://localhost:8080/",
          "height": 35
        },
        "id": "sacjmeyhRNgA",
        "outputId": "d5acad1b-e0f8-499c-8cca-0c72b9cc6b11"
      },
      "outputs": [
        {
          "output_type": "execute_result",
          "data": {
            "text/plain": [
              "'ted Nation'"
            ],
            "application/vnd.google.colaboratory.intrinsic+json": {
              "type": "string"
            }
          },
          "metadata": {},
          "execution_count": 607
        }
      ],
      "source": [
        "a[-11:-1]"
      ]
    },
    {
      "cell_type": "code",
      "execution_count": 608,
      "metadata": {
        "id": "My-Naj8TRQ7w"
      },
      "outputs": [],
      "source": [
        "#Slicing in Lists\n",
        "\n",
        "my_lists=[1,2,3,'Russia','USA','Alaska','Israel',5,8,-4.9]"
      ]
    },
    {
      "cell_type": "code",
      "execution_count": 609,
      "metadata": {
        "colab": {
          "base_uri": "https://localhost:8080/"
        },
        "id": "TQw_gKgtSKqQ",
        "outputId": "951ab7ea-4926-4c99-88b7-3975cf6ab0af"
      },
      "outputs": [
        {
          "output_type": "execute_result",
          "data": {
            "text/plain": [
              "['USA', 'Alaska', 'Israel']"
            ]
          },
          "metadata": {},
          "execution_count": 609
        }
      ],
      "source": [
        "my_lists[4:7]"
      ]
    },
    {
      "cell_type": "code",
      "execution_count": 610,
      "metadata": {
        "colab": {
          "base_uri": "https://localhost:8080/"
        },
        "id": "pP0nTdyASTbL",
        "outputId": "b7031c03-e4ca-41f4-8c7b-d4e0f3dca888"
      },
      "outputs": [
        {
          "output_type": "execute_result",
          "data": {
            "text/plain": [
              "['USA', 'Alaska', 'Israel']"
            ]
          },
          "metadata": {},
          "execution_count": 610
        }
      ],
      "source": [
        "my_lists[-6:-3]"
      ]
    },
    {
      "cell_type": "markdown",
      "metadata": {
        "id": "-FfUPXZu7ZfV"
      },
      "source": [
        "build in Functions with Strings and Lists   ( 25 May )"
      ]
    },
    {
      "cell_type": "code",
      "execution_count": 611,
      "metadata": {
        "id": "n7bt552XSlqF"
      },
      "outputs": [],
      "source": [
        "a='akash'"
      ]
    },
    {
      "cell_type": "code",
      "execution_count": 612,
      "metadata": {
        "colab": {
          "base_uri": "https://localhost:8080/"
        },
        "id": "-6Cw24oW7p2H",
        "outputId": "9caaebc6-25ce-4d2b-8448-41e72d3399fc"
      },
      "outputs": [
        {
          "output_type": "stream",
          "name": "stdout",
          "text": [
            "AKASH\n"
          ]
        }
      ],
      "source": [
        "print(a.upper())"
      ]
    },
    {
      "cell_type": "code",
      "execution_count": 613,
      "metadata": {
        "id": "3xQRwB2o7xtJ"
      },
      "outputs": [],
      "source": [
        "b=a.upper()"
      ]
    },
    {
      "cell_type": "code",
      "execution_count": 614,
      "metadata": {
        "colab": {
          "base_uri": "https://localhost:8080/"
        },
        "id": "zwDCgZRz8Wgu",
        "outputId": "daf184ce-e338-49e2-9e49-f89745e2a84e"
      },
      "outputs": [
        {
          "output_type": "stream",
          "name": "stdout",
          "text": [
            "AKASH\n"
          ]
        }
      ],
      "source": [
        "print(b)"
      ]
    },
    {
      "cell_type": "code",
      "execution_count": 615,
      "metadata": {
        "colab": {
          "base_uri": "https://localhost:8080/"
        },
        "id": "A2IE9bBF8bue",
        "outputId": "15578ea1-b195-4738-8ee2-6b015b002708"
      },
      "outputs": [
        {
          "output_type": "stream",
          "name": "stdout",
          "text": [
            "akash\n"
          ]
        }
      ],
      "source": [
        "print(b.lower())"
      ]
    },
    {
      "cell_type": "code",
      "execution_count": 616,
      "metadata": {
        "id": "TfcqY7Ks8kFd"
      },
      "outputs": [],
      "source": [
        "name='aKasH'"
      ]
    },
    {
      "cell_type": "code",
      "execution_count": 617,
      "metadata": {
        "colab": {
          "base_uri": "https://localhost:8080/"
        },
        "id": "MzB8alb380xt",
        "outputId": "172b4b70-91b0-4d2f-9ac5-17aff3212969"
      },
      "outputs": [
        {
          "output_type": "stream",
          "name": "stdout",
          "text": [
            "Akash\n"
          ]
        }
      ],
      "source": [
        "print(name.capitalize())"
      ]
    },
    {
      "cell_type": "code",
      "execution_count": 618,
      "metadata": {
        "id": "qHrmCE008--0"
      },
      "outputs": [],
      "source": [
        "statement='Hello I am doing good, I am going to Bangalore next weekend, I am going to stay for 8 weeks'"
      ]
    },
    {
      "cell_type": "code",
      "execution_count": 619,
      "metadata": {
        "colab": {
          "base_uri": "https://localhost:8080/"
        },
        "id": "APnMv5nw_TTV",
        "outputId": "f90a120e-30db-4c0b-ca56-d74bc4fb08d8"
      },
      "outputs": [
        {
          "output_type": "stream",
          "name": "stdout",
          "text": [
            "91\n"
          ]
        }
      ],
      "source": [
        "print(len(statement))"
      ]
    },
    {
      "cell_type": "code",
      "execution_count": 620,
      "metadata": {
        "colab": {
          "base_uri": "https://localhost:8080/"
        },
        "id": "iqi2diZF_icU",
        "outputId": "4c5f5734-0cf3-4e17-9f22-72e0f62a4b22"
      },
      "outputs": [
        {
          "output_type": "stream",
          "name": "stdout",
          "text": [
            "10\n"
          ]
        }
      ],
      "source": [
        "print(statement.count('o'))"
      ]
    },
    {
      "cell_type": "code",
      "execution_count": 621,
      "metadata": {
        "colab": {
          "base_uri": "https://localhost:8080/"
        },
        "id": "x1HsiK_Y92O6",
        "outputId": "2069c816-c435-41d1-acfe-5017a248a376"
      },
      "outputs": [
        {
          "output_type": "stream",
          "name": "stdout",
          "text": [
            "Hello We are doing good, We are going to Bangalore next weekend, We are going to stay for 8 weeks\n"
          ]
        }
      ],
      "source": [
        "print(statement.replace(\"I am\",\"We are\"))"
      ]
    },
    {
      "cell_type": "code",
      "execution_count": 622,
      "metadata": {
        "colab": {
          "base_uri": "https://localhost:8080/"
        },
        "id": "q9nzZpEx-MAo",
        "outputId": "6924901f-e167-4084-a0df-bac4bc6088d7"
      },
      "outputs": [
        {
          "output_type": "stream",
          "name": "stdout",
          "text": [
            "Hello We are doing good, I am going to Bangalore next weekend, I am going to stay for 8 weeks\n"
          ]
        }
      ],
      "source": [
        "print(statement.replace(\"I am\",\"We are\",1))"
      ]
    },
    {
      "cell_type": "code",
      "execution_count": 623,
      "metadata": {
        "id": "T0_oZS7f-fiX"
      },
      "outputs": [],
      "source": [
        "name='akash'"
      ]
    },
    {
      "cell_type": "code",
      "execution_count": 624,
      "metadata": {
        "colab": {
          "base_uri": "https://localhost:8080/"
        },
        "id": "EhnOSRtn-r9O",
        "outputId": "f0d2e408-40b9-4600-8b9e-de8a19104a58"
      },
      "outputs": [
        {
          "output_type": "stream",
          "name": "stdout",
          "text": [
            "5\n"
          ]
        }
      ],
      "source": [
        "print(len(name))"
      ]
    },
    {
      "cell_type": "code",
      "execution_count": 625,
      "metadata": {
        "colab": {
          "base_uri": "https://localhost:8080/"
        },
        "id": "bg7ExtX9-0iG",
        "outputId": "9b21505e-c954-477d-a02b-69b25debd719"
      },
      "outputs": [
        {
          "output_type": "stream",
          "name": "stdout",
          "text": [
            "2\n"
          ]
        }
      ],
      "source": [
        "print(name.count('a'))"
      ]
    },
    {
      "cell_type": "code",
      "execution_count": 626,
      "metadata": {
        "id": "JOjDR-BN_EYz"
      },
      "outputs": [],
      "source": [
        "my_lists=['Artificial Intelligence','Machine Learning','Python','NLP']"
      ]
    },
    {
      "cell_type": "code",
      "execution_count": 627,
      "metadata": {
        "id": "4j8DkrKMVr6i"
      },
      "outputs": [],
      "source": [
        "my_lists.append('Computer Vision')"
      ]
    },
    {
      "cell_type": "code",
      "execution_count": 628,
      "metadata": {
        "colab": {
          "base_uri": "https://localhost:8080/"
        },
        "id": "5zdVhenaV_-y",
        "outputId": "c378b9c6-d41e-4439-aeb9-a0223364f6f3"
      },
      "outputs": [
        {
          "output_type": "stream",
          "name": "stdout",
          "text": [
            "['Artificial Intelligence', 'Machine Learning', 'Python', 'NLP', 'Computer Vision']\n"
          ]
        }
      ],
      "source": [
        "print(my_lists)"
      ]
    },
    {
      "cell_type": "code",
      "execution_count": 629,
      "metadata": {
        "id": "NgjsD9xzWEL6"
      },
      "outputs": [],
      "source": [
        "my_lists.insert(2,'Computer Vision')"
      ]
    },
    {
      "cell_type": "code",
      "execution_count": 630,
      "metadata": {
        "colab": {
          "base_uri": "https://localhost:8080/"
        },
        "id": "v_m2TCwtW0jC",
        "outputId": "b8b8e728-2c28-4c47-c14c-37392464286b"
      },
      "outputs": [
        {
          "output_type": "stream",
          "name": "stdout",
          "text": [
            "['Artificial Intelligence', 'Machine Learning', 'Computer Vision', 'Python', 'NLP', 'Computer Vision']\n"
          ]
        }
      ],
      "source": [
        "print(my_lists)"
      ]
    },
    {
      "cell_type": "code",
      "execution_count": 631,
      "metadata": {
        "id": "6pvyVXI8W5Jw"
      },
      "outputs": [],
      "source": [
        "my_lists.remove('Computer Vision')"
      ]
    },
    {
      "cell_type": "code",
      "execution_count": 632,
      "metadata": {
        "colab": {
          "base_uri": "https://localhost:8080/"
        },
        "id": "RsIu2S8iXy2e",
        "outputId": "d6974c60-0f30-4436-8e13-a9e2763e9556"
      },
      "outputs": [
        {
          "output_type": "stream",
          "name": "stdout",
          "text": [
            "['Artificial Intelligence', 'Machine Learning', 'Python', 'NLP', 'Computer Vision']\n"
          ]
        }
      ],
      "source": [
        "print(my_lists)"
      ]
    },
    {
      "cell_type": "code",
      "execution_count": 633,
      "metadata": {
        "colab": {
          "base_uri": "https://localhost:8080/",
          "height": 35
        },
        "id": "HTIqAVckX6WG",
        "outputId": "89b55e5b-fcbe-48d8-9e78-f0d5a339a993"
      },
      "outputs": [
        {
          "output_type": "execute_result",
          "data": {
            "text/plain": [
              "'Computer Vision'"
            ],
            "application/vnd.google.colaboratory.intrinsic+json": {
              "type": "string"
            }
          },
          "metadata": {},
          "execution_count": 633
        }
      ],
      "source": [
        "my_lists.pop()"
      ]
    },
    {
      "cell_type": "code",
      "execution_count": 634,
      "metadata": {
        "colab": {
          "base_uri": "https://localhost:8080/"
        },
        "id": "dL8VbF9vYtv7",
        "outputId": "9f6f177c-982c-4e87-efdc-208f039f0455"
      },
      "outputs": [
        {
          "output_type": "stream",
          "name": "stdout",
          "text": [
            "['Artificial Intelligence', 'Machine Learning', 'Python', 'NLP']\n"
          ]
        }
      ],
      "source": [
        "print(my_lists)"
      ]
    },
    {
      "cell_type": "code",
      "execution_count": 635,
      "metadata": {
        "colab": {
          "base_uri": "https://localhost:8080/",
          "height": 35
        },
        "id": "6X1kKuZMYy8D",
        "outputId": "747e5ebd-5b27-4661-9878-78487b8acce4"
      },
      "outputs": [
        {
          "output_type": "execute_result",
          "data": {
            "text/plain": [
              "'Artificial Intelligence'"
            ],
            "application/vnd.google.colaboratory.intrinsic+json": {
              "type": "string"
            }
          },
          "metadata": {},
          "execution_count": 635
        }
      ],
      "source": [
        "my_lists.pop(0)"
      ]
    },
    {
      "cell_type": "code",
      "execution_count": 636,
      "metadata": {
        "colab": {
          "base_uri": "https://localhost:8080/"
        },
        "id": "TfakZBljY7Z3",
        "outputId": "c951d087-d13b-4e55-d0e3-7c63684c4d2e"
      },
      "outputs": [
        {
          "output_type": "stream",
          "name": "stdout",
          "text": [
            "['Machine Learning', 'Python', 'NLP']\n"
          ]
        }
      ],
      "source": [
        "print(my_lists)"
      ]
    },
    {
      "cell_type": "code",
      "execution_count": 637,
      "metadata": {
        "id": "0DOehP4UY-2-"
      },
      "outputs": [],
      "source": [
        "my_lists.extend(['Apple','23','Banana','Mango'])"
      ]
    },
    {
      "cell_type": "code",
      "execution_count": 638,
      "metadata": {
        "colab": {
          "base_uri": "https://localhost:8080/"
        },
        "id": "XUMB11KuZt3h",
        "outputId": "f7332d2e-c5ec-4562-a9cd-659b8838981f"
      },
      "outputs": [
        {
          "output_type": "stream",
          "name": "stdout",
          "text": [
            "['Machine Learning', 'Python', 'NLP', 'Apple', '23', 'Banana', 'Mango']\n"
          ]
        }
      ],
      "source": [
        "print(my_lists)"
      ]
    },
    {
      "cell_type": "code",
      "execution_count": 639,
      "metadata": {
        "colab": {
          "base_uri": "https://localhost:8080/"
        },
        "id": "OFdoaNwlZ-9K",
        "outputId": "458a75a7-d24d-4a09-d7a4-88941117c382"
      },
      "outputs": [
        {
          "output_type": "stream",
          "name": "stdout",
          "text": [
            "7\n"
          ]
        }
      ],
      "source": [
        "print(len(my_lists))"
      ]
    },
    {
      "cell_type": "code",
      "execution_count": 640,
      "metadata": {
        "id": "IY1gPWVXaFBq"
      },
      "outputs": [],
      "source": [
        "new_list=[2,3,4,5,9,8,5,3,2,5,7,2,9]"
      ]
    },
    {
      "cell_type": "code",
      "execution_count": 641,
      "metadata": {
        "id": "_QHkQvJmcCEd"
      },
      "outputs": [],
      "source": [
        "new_list.sort(reverse=True)"
      ]
    },
    {
      "cell_type": "code",
      "execution_count": 642,
      "metadata": {
        "colab": {
          "base_uri": "https://localhost:8080/"
        },
        "id": "bVAK_4fIcB28",
        "outputId": "aa39c18d-9a1e-4c1e-ef46-235897df1a81"
      },
      "outputs": [
        {
          "output_type": "stream",
          "name": "stdout",
          "text": [
            "[9, 9, 8, 7, 5, 5, 5, 4, 3, 3, 2, 2, 2]\n"
          ]
        }
      ],
      "source": [
        "print(new_list)"
      ]
    },
    {
      "cell_type": "code",
      "execution_count": 643,
      "metadata": {
        "id": "tno9011lbulO"
      },
      "outputs": [],
      "source": [
        "new_list.sort()"
      ]
    },
    {
      "cell_type": "code",
      "execution_count": 644,
      "metadata": {
        "colab": {
          "base_uri": "https://localhost:8080/"
        },
        "id": "VLt70F66b2O5",
        "outputId": "030a076f-4c06-4271-8993-8669856b18e9"
      },
      "outputs": [
        {
          "output_type": "stream",
          "name": "stdout",
          "text": [
            "[2, 2, 2, 3, 3, 4, 5, 5, 5, 7, 8, 9, 9]\n"
          ]
        }
      ],
      "source": [
        "print(new_list)"
      ]
    },
    {
      "cell_type": "code",
      "execution_count": 645,
      "metadata": {
        "colab": {
          "base_uri": "https://localhost:8080/"
        },
        "id": "A1cERBxbatre",
        "outputId": "2fc7ca3a-2b06-47de-c9bd-c1b02e5a042b"
      },
      "outputs": [
        {
          "output_type": "stream",
          "name": "stdout",
          "text": [
            "9\n"
          ]
        }
      ],
      "source": [
        "print(max(new_list))"
      ]
    },
    {
      "cell_type": "code",
      "execution_count": 646,
      "metadata": {
        "colab": {
          "base_uri": "https://localhost:8080/"
        },
        "id": "p1LpP-V4axgA",
        "outputId": "b1e67f50-10c5-4890-90cf-ef30f7ad893e"
      },
      "outputs": [
        {
          "output_type": "stream",
          "name": "stdout",
          "text": [
            "2\n"
          ]
        }
      ],
      "source": [
        "print(min(new_list))"
      ]
    },
    {
      "cell_type": "code",
      "execution_count": 647,
      "metadata": {
        "colab": {
          "base_uri": "https://localhost:8080/"
        },
        "id": "UYENm6jha9SQ",
        "outputId": "5f73440c-2c1f-4ff4-ecce-c3fd29fa0ea8"
      },
      "outputs": [
        {
          "output_type": "stream",
          "name": "stdout",
          "text": [
            "64\n"
          ]
        }
      ],
      "source": [
        "print(sum(new_list))"
      ]
    },
    {
      "cell_type": "code",
      "execution_count": 648,
      "metadata": {
        "colab": {
          "base_uri": "https://localhost:8080/"
        },
        "id": "gdWCXPqKbDwa",
        "outputId": "8b4ff7db-5001-4b79-9185-4f73b47dac28"
      },
      "outputs": [
        {
          "output_type": "stream",
          "name": "stdout",
          "text": [
            "13\n"
          ]
        }
      ],
      "source": [
        "print(len(new_list))"
      ]
    },
    {
      "cell_type": "code",
      "execution_count": 649,
      "metadata": {
        "colab": {
          "base_uri": "https://localhost:8080/"
        },
        "id": "VJOCBAJ2bLnS",
        "outputId": "7b168e76-6862-481d-9e18-be8b53ebdb37"
      },
      "outputs": [
        {
          "output_type": "stream",
          "name": "stdout",
          "text": [
            "3\n"
          ]
        }
      ],
      "source": [
        "print(new_list.count(2))"
      ]
    },
    {
      "cell_type": "code",
      "execution_count": 650,
      "metadata": {
        "id": "zYOhSRlEbRM_"
      },
      "outputs": [],
      "source": [
        "#nested lists -- list inside an existing list"
      ]
    },
    {
      "cell_type": "code",
      "execution_count": 651,
      "metadata": {
        "id": "r-DB5gZfcjF9"
      },
      "outputs": [],
      "source": [
        "l1=['India','USA',['China','Apple','Mango',23,45,-8.9,-33]]"
      ]
    },
    {
      "cell_type": "code",
      "execution_count": 652,
      "metadata": {
        "colab": {
          "base_uri": "https://localhost:8080/",
          "height": 35
        },
        "id": "Uoeg_xaPeOu3",
        "outputId": "86ae64e9-7aa4-4d07-c8d5-cc81fba02489"
      },
      "outputs": [
        {
          "output_type": "execute_result",
          "data": {
            "text/plain": [
              "'China'"
            ],
            "application/vnd.google.colaboratory.intrinsic+json": {
              "type": "string"
            }
          },
          "metadata": {},
          "execution_count": 652
        }
      ],
      "source": [
        "l1[2][0]"
      ]
    },
    {
      "cell_type": "code",
      "execution_count": 653,
      "metadata": {
        "colab": {
          "base_uri": "https://localhost:8080/",
          "height": 35
        },
        "id": "s7gKvWYjeTgh",
        "outputId": "00bd7bcf-ec4e-47e3-ac27-6a17ca78ce43"
      },
      "outputs": [
        {
          "output_type": "execute_result",
          "data": {
            "text/plain": [
              "'China'"
            ],
            "application/vnd.google.colaboratory.intrinsic+json": {
              "type": "string"
            }
          },
          "metadata": {},
          "execution_count": 653
        }
      ],
      "source": [
        "l1[-1][-7]"
      ]
    },
    {
      "cell_type": "code",
      "execution_count": 654,
      "metadata": {
        "colab": {
          "base_uri": "https://localhost:8080/",
          "height": 35
        },
        "id": "5wbgns-AecYk",
        "outputId": "3909ac6f-82bc-4f86-9cae-d1fe14c97743"
      },
      "outputs": [
        {
          "output_type": "execute_result",
          "data": {
            "text/plain": [
              "'Mango'"
            ],
            "application/vnd.google.colaboratory.intrinsic+json": {
              "type": "string"
            }
          },
          "metadata": {},
          "execution_count": 654
        }
      ],
      "source": [
        "l1[2][2]"
      ]
    },
    {
      "cell_type": "code",
      "execution_count": 655,
      "metadata": {
        "colab": {
          "base_uri": "https://localhost:8080/",
          "height": 35
        },
        "id": "D6xkPa92efOM",
        "outputId": "56a0de2a-97d1-464a-e399-631490f1ecee"
      },
      "outputs": [
        {
          "output_type": "execute_result",
          "data": {
            "text/plain": [
              "'Mango'"
            ],
            "application/vnd.google.colaboratory.intrinsic+json": {
              "type": "string"
            }
          },
          "metadata": {},
          "execution_count": 655
        }
      ],
      "source": [
        "l1[-1][-5]"
      ]
    },
    {
      "cell_type": "code",
      "execution_count": 656,
      "metadata": {
        "colab": {
          "base_uri": "https://localhost:8080/"
        },
        "id": "q9g7YgBcemMr",
        "outputId": "ba088103-d232-40d9-a745-018bc2b9c6ed"
      },
      "outputs": [
        {
          "output_type": "execute_result",
          "data": {
            "text/plain": [
              "[23, 45, -8.9]"
            ]
          },
          "metadata": {},
          "execution_count": 656
        }
      ],
      "source": [
        "l1[2][3:6]"
      ]
    },
    {
      "cell_type": "code",
      "execution_count": 657,
      "metadata": {
        "colab": {
          "base_uri": "https://localhost:8080/"
        },
        "id": "8V-TEsKpeu-H",
        "outputId": "2d3bad1c-2044-4c14-f23c-13625ab4238f"
      },
      "outputs": [
        {
          "output_type": "execute_result",
          "data": {
            "text/plain": [
              "['Apple', 'Mango', 23, 45]"
            ]
          },
          "metadata": {},
          "execution_count": 657
        }
      ],
      "source": [
        "l1[2][1:5]"
      ]
    },
    {
      "cell_type": "markdown",
      "metadata": {
        "id": "iC411S66fOOx"
      },
      "source": [
        "Tuple"
      ]
    },
    {
      "cell_type": "code",
      "execution_count": 658,
      "metadata": {
        "id": "4xv_fCdBe7zf"
      },
      "outputs": [],
      "source": [
        "t=('India','USA','Russia','New Delhi',25,900,-3.9,-0.8)"
      ]
    },
    {
      "cell_type": "code",
      "execution_count": 659,
      "metadata": {
        "colab": {
          "base_uri": "https://localhost:8080/"
        },
        "id": "4jpdhDxawsLo",
        "outputId": "0c9a9a3b-b120-4eac-c121-4fc40c547c60"
      },
      "outputs": [
        {
          "output_type": "stream",
          "name": "stdout",
          "text": [
            "('India', 'USA', 'Russia', 'New Delhi', 25, 900, -3.9, -0.8)\n"
          ]
        }
      ],
      "source": [
        "print(t)"
      ]
    },
    {
      "cell_type": "code",
      "execution_count": 660,
      "metadata": {
        "colab": {
          "base_uri": "https://localhost:8080/"
        },
        "id": "Lb8MuDtDwuKK",
        "outputId": "7331d891-570e-4a7c-8e24-5ba8f047d836"
      },
      "outputs": [
        {
          "output_type": "execute_result",
          "data": {
            "text/plain": [
              "tuple"
            ]
          },
          "metadata": {},
          "execution_count": 660
        }
      ],
      "source": [
        "type(t)"
      ]
    },
    {
      "cell_type": "code",
      "execution_count": 661,
      "metadata": {
        "colab": {
          "base_uri": "https://localhost:8080/",
          "height": 35
        },
        "id": "gvHWlrt8wzrY",
        "outputId": "bfc8c8a0-aad5-4bd4-824d-ee8c9a4130ff"
      },
      "outputs": [
        {
          "output_type": "execute_result",
          "data": {
            "text/plain": [
              "'Russia'"
            ],
            "application/vnd.google.colaboratory.intrinsic+json": {
              "type": "string"
            }
          },
          "metadata": {},
          "execution_count": 661
        }
      ],
      "source": [
        "t[2]"
      ]
    },
    {
      "cell_type": "code",
      "execution_count": 662,
      "metadata": {
        "colab": {
          "base_uri": "https://localhost:8080/"
        },
        "id": "A8tZfePJw4MR",
        "outputId": "d4beff0b-b2ef-431c-8a35-5e4b3df6b4e5"
      },
      "outputs": [
        {
          "output_type": "execute_result",
          "data": {
            "text/plain": [
              "-3.9"
            ]
          },
          "metadata": {},
          "execution_count": 662
        }
      ],
      "source": [
        "t[-2]"
      ]
    },
    {
      "cell_type": "code",
      "execution_count": 663,
      "metadata": {
        "colab": {
          "base_uri": "https://localhost:8080/"
        },
        "id": "C7sTJtuZw795",
        "outputId": "5cdb92ba-ac6f-4018-acfb-3580be5198fe"
      },
      "outputs": [
        {
          "output_type": "execute_result",
          "data": {
            "text/plain": [
              "('India', 'USA', 'Russia')"
            ]
          },
          "metadata": {},
          "execution_count": 663
        }
      ],
      "source": [
        "t[0:3]"
      ]
    },
    {
      "cell_type": "code",
      "execution_count": 664,
      "metadata": {
        "id": "tof88RIexRNZ"
      },
      "outputs": [],
      "source": [
        "my_tup=(2,3,4,5,6,7,9)"
      ]
    },
    {
      "cell_type": "code",
      "execution_count": 665,
      "metadata": {
        "colab": {
          "base_uri": "https://localhost:8080/"
        },
        "id": "BElKj8tuxg7P",
        "outputId": "c223e35c-0bff-4161-ee96-81dba446a4b3"
      },
      "outputs": [
        {
          "output_type": "execute_result",
          "data": {
            "text/plain": [
              "36"
            ]
          },
          "metadata": {},
          "execution_count": 665
        }
      ],
      "source": [
        "sum(my_tup)"
      ]
    },
    {
      "cell_type": "code",
      "execution_count": 666,
      "metadata": {
        "colab": {
          "base_uri": "https://localhost:8080/"
        },
        "id": "gZcPsHSwxj3_",
        "outputId": "990f210f-599c-4138-d301-dd9ffd6c93d1"
      },
      "outputs": [
        {
          "output_type": "execute_result",
          "data": {
            "text/plain": [
              "9"
            ]
          },
          "metadata": {},
          "execution_count": 666
        }
      ],
      "source": [
        "max(my_tup)"
      ]
    },
    {
      "cell_type": "code",
      "execution_count": 667,
      "metadata": {
        "colab": {
          "base_uri": "https://localhost:8080/"
        },
        "id": "U9FskOs7xnG3",
        "outputId": "180f8441-dbbe-4768-b12e-dd3c7a69e6e4"
      },
      "outputs": [
        {
          "output_type": "execute_result",
          "data": {
            "text/plain": [
              "2"
            ]
          },
          "metadata": {},
          "execution_count": 667
        }
      ],
      "source": [
        "min(my_tup)"
      ]
    },
    {
      "cell_type": "code",
      "execution_count": 668,
      "metadata": {
        "colab": {
          "base_uri": "https://localhost:8080/"
        },
        "id": "CTCofmP0xpwG",
        "outputId": "43b7191a-41fe-490d-abc3-69189430f3a3"
      },
      "outputs": [
        {
          "output_type": "execute_result",
          "data": {
            "text/plain": [
              "7"
            ]
          },
          "metadata": {},
          "execution_count": 668
        }
      ],
      "source": [
        "len(my_tup)"
      ]
    },
    {
      "cell_type": "markdown",
      "metadata": {
        "id": "hNk1SDikyaYX"
      },
      "source": [
        "Dictionary"
      ]
    },
    {
      "cell_type": "code",
      "execution_count": 669,
      "metadata": {
        "id": "rp7IOpKUx0bX"
      },
      "outputs": [],
      "source": [
        "memo={'Chips':50,'Chocolate':250,'Icecream':300,'Pens':30,'Bread':45}"
      ]
    },
    {
      "cell_type": "code",
      "execution_count": 670,
      "metadata": {
        "colab": {
          "base_uri": "https://localhost:8080/"
        },
        "id": "D410Qq7Nzxxj",
        "outputId": "7b10f412-2dba-408a-ab29-62a2dbf3cfa5"
      },
      "outputs": [
        {
          "output_type": "stream",
          "name": "stdout",
          "text": [
            "{'Chips': 50, 'Chocolate': 250, 'Icecream': 300, 'Pens': 30, 'Bread': 45}\n"
          ]
        }
      ],
      "source": [
        "print(memo)"
      ]
    },
    {
      "cell_type": "code",
      "execution_count": 671,
      "metadata": {
        "colab": {
          "base_uri": "https://localhost:8080/"
        },
        "id": "1g_6fyhBz0lx",
        "outputId": "68cf6706-392e-4499-a9d8-cdbd6f4917c7"
      },
      "outputs": [
        {
          "output_type": "execute_result",
          "data": {
            "text/plain": [
              "dict"
            ]
          },
          "metadata": {},
          "execution_count": 671
        }
      ],
      "source": [
        "type(memo)"
      ]
    },
    {
      "cell_type": "code",
      "execution_count": 672,
      "metadata": {
        "colab": {
          "base_uri": "https://localhost:8080/"
        },
        "id": "Nx5X8Awpz2zx",
        "outputId": "578a5801-a13d-419f-b65c-a9b98daf51ca"
      },
      "outputs": [
        {
          "output_type": "execute_result",
          "data": {
            "text/plain": [
              "30"
            ]
          },
          "metadata": {},
          "execution_count": 672
        }
      ],
      "source": [
        "memo['Pens']"
      ]
    },
    {
      "cell_type": "code",
      "execution_count": 673,
      "metadata": {
        "colab": {
          "base_uri": "https://localhost:8080/"
        },
        "id": "Wc1CR4Mtz-Nx",
        "outputId": "85629995-de41-4375-b3fd-7fbf1a61edfb"
      },
      "outputs": [
        {
          "output_type": "execute_result",
          "data": {
            "text/plain": [
              "250"
            ]
          },
          "metadata": {},
          "execution_count": 673
        }
      ],
      "source": [
        "memo['Chocolate']"
      ]
    },
    {
      "cell_type": "code",
      "execution_count": 674,
      "metadata": {
        "id": "8RJ3Ai4c0DCj"
      },
      "outputs": [],
      "source": [
        "memo['Chocolate']=300"
      ]
    },
    {
      "cell_type": "code",
      "execution_count": 675,
      "metadata": {
        "colab": {
          "base_uri": "https://localhost:8080/"
        },
        "id": "BQEcN7570VB5",
        "outputId": "6245fceb-d751-457a-9bb2-2cbbcbeb359a"
      },
      "outputs": [
        {
          "output_type": "stream",
          "name": "stdout",
          "text": [
            "{'Chips': 50, 'Chocolate': 300, 'Icecream': 300, 'Pens': 30, 'Bread': 45}\n"
          ]
        }
      ],
      "source": [
        "print(memo)"
      ]
    },
    {
      "cell_type": "code",
      "execution_count": 676,
      "metadata": {
        "id": "SEzV0h940W-5"
      },
      "outputs": [],
      "source": [
        "memo['Icecream']=250"
      ]
    },
    {
      "cell_type": "code",
      "execution_count": 677,
      "metadata": {
        "colab": {
          "base_uri": "https://localhost:8080/"
        },
        "id": "vwxtRWP38Npa",
        "outputId": "185e05b6-be1f-42e6-874e-aea19b87cece"
      },
      "outputs": [
        {
          "output_type": "stream",
          "name": "stdout",
          "text": [
            "{'Chips': 50, 'Chocolate': 300, 'Icecream': 250, 'Pens': 30, 'Bread': 45}\n"
          ]
        }
      ],
      "source": [
        "print(memo)"
      ]
    },
    {
      "cell_type": "code",
      "execution_count": 678,
      "metadata": {
        "colab": {
          "base_uri": "https://localhost:8080/"
        },
        "id": "RS_svSrs8PfJ",
        "outputId": "3f522114-ad4c-4b1e-b2cb-0858fe42a551"
      },
      "outputs": [
        {
          "output_type": "execute_result",
          "data": {
            "text/plain": [
              "dict_keys(['Chips', 'Chocolate', 'Icecream', 'Pens', 'Bread'])"
            ]
          },
          "metadata": {},
          "execution_count": 678
        }
      ],
      "source": [
        "memo.keys()"
      ]
    },
    {
      "cell_type": "code",
      "execution_count": 679,
      "metadata": {
        "colab": {
          "base_uri": "https://localhost:8080/"
        },
        "id": "kB4aLdOL8ZBg",
        "outputId": "d6c3eb3d-30e9-4a24-e36d-bd407580ae77"
      },
      "outputs": [
        {
          "output_type": "execute_result",
          "data": {
            "text/plain": [
              "dict_values([50, 300, 250, 30, 45])"
            ]
          },
          "metadata": {},
          "execution_count": 679
        }
      ],
      "source": [
        "memo.values()"
      ]
    },
    {
      "cell_type": "markdown",
      "metadata": {
        "id": "9dT-U-s_-JU8"
      },
      "source": [
        " 26 May"
      ]
    },
    {
      "cell_type": "code",
      "execution_count": 680,
      "metadata": {
        "id": "ec5LnIww8cXQ"
      },
      "outputs": [],
      "source": [
        "memo['Notebook']=90"
      ]
    },
    {
      "cell_type": "code",
      "execution_count": 681,
      "metadata": {
        "colab": {
          "base_uri": "https://localhost:8080/"
        },
        "id": "FIVwWvXs-UH1",
        "outputId": "8a35a0df-05db-4418-a9bb-ca6e80d23445"
      },
      "outputs": [
        {
          "output_type": "stream",
          "name": "stdout",
          "text": [
            "{'Chips': 50, 'Chocolate': 300, 'Icecream': 250, 'Pens': 30, 'Bread': 45, 'Notebook': 90}\n"
          ]
        }
      ],
      "source": [
        "print(memo)"
      ]
    },
    {
      "cell_type": "code",
      "execution_count": 682,
      "metadata": {
        "colab": {
          "base_uri": "https://localhost:8080/"
        },
        "id": "dBAGlIOp-WNn",
        "outputId": "3bbc8d20-e58f-439e-f8a4-cec5557e7ce1"
      },
      "outputs": [
        {
          "output_type": "execute_result",
          "data": {
            "text/plain": [
              "('Notebook', 90)"
            ]
          },
          "metadata": {},
          "execution_count": 682
        }
      ],
      "source": [
        "memo.popitem()"
      ]
    },
    {
      "cell_type": "code",
      "execution_count": 683,
      "metadata": {
        "colab": {
          "base_uri": "https://localhost:8080/"
        },
        "id": "S9Ml-PL_-iT1",
        "outputId": "b65c5269-b15e-4492-a7e1-a707f54384ac"
      },
      "outputs": [
        {
          "output_type": "stream",
          "name": "stdout",
          "text": [
            "{'Chips': 50, 'Chocolate': 300, 'Icecream': 250, 'Pens': 30, 'Bread': 45}\n"
          ]
        }
      ],
      "source": [
        "print(memo)"
      ]
    },
    {
      "cell_type": "code",
      "execution_count": 684,
      "metadata": {
        "id": "2cftC7ju-mac"
      },
      "outputs": [],
      "source": [
        "memo.clear()"
      ]
    },
    {
      "cell_type": "code",
      "execution_count": 685,
      "metadata": {
        "colab": {
          "base_uri": "https://localhost:8080/"
        },
        "id": "Rk2NYih2-rKj",
        "outputId": "bc29d7b6-ca7e-493e-868a-968b409a66cf"
      },
      "outputs": [
        {
          "output_type": "stream",
          "name": "stdout",
          "text": [
            "{}\n"
          ]
        }
      ],
      "source": [
        "print(memo)"
      ]
    },
    {
      "cell_type": "markdown",
      "metadata": {
        "id": "sP7VjHvt-65Z"
      },
      "source": [
        "1. Create a Dictionary with the following key value pair\n",
        "\n",
        "    keys - Name, Age, Salary, City\n",
        "Value - Bob, 39, 35000, New York\n",
        "\n",
        "2. Add a new key value pair to your dictionary called designation and associate the value 'Saftware Engg.\n",
        "\n",
        "3. Fetch the Salary of Bob\n",
        "\n",
        "4. Modify the Salary of Bob from 35000 to 55000\n",
        "\n",
        "5. Delete Age key value pair from the dictionary\n"
      ]
    },
    {
      "cell_type": "code",
      "execution_count": 686,
      "metadata": {
        "id": "jStDdEdU-tQr"
      },
      "outputs": [],
      "source": [
        "new_memo={'Name':'Bob', 'Age':39, 'Salary':35000, 'City':'New York'}"
      ]
    },
    {
      "cell_type": "code",
      "execution_count": 687,
      "metadata": {
        "colab": {
          "base_uri": "https://localhost:8080/"
        },
        "id": "qnk56tTKAzOf",
        "outputId": "07248261-1251-48a6-e47d-d1e08d16db22"
      },
      "outputs": [
        {
          "output_type": "stream",
          "name": "stdout",
          "text": [
            "{'Name': 'Bob', 'Age': 39, 'Salary': 35000, 'City': 'New York'}\n"
          ]
        }
      ],
      "source": [
        "print(new_memo)"
      ]
    },
    {
      "cell_type": "code",
      "execution_count": 688,
      "metadata": {
        "id": "r5CohF4qA65g"
      },
      "outputs": [],
      "source": [
        "new_memo['Designation']='Saftware Engg.'"
      ]
    },
    {
      "cell_type": "code",
      "execution_count": 689,
      "metadata": {
        "colab": {
          "base_uri": "https://localhost:8080/"
        },
        "id": "qkdq2JoGBUvA",
        "outputId": "11d4ca17-e50e-4934-c304-747ec0efcec0"
      },
      "outputs": [
        {
          "output_type": "stream",
          "name": "stdout",
          "text": [
            "{'Name': 'Bob', 'Age': 39, 'Salary': 35000, 'City': 'New York', 'Designation': 'Saftware Engg.'}\n"
          ]
        }
      ],
      "source": [
        "print(new_memo)"
      ]
    },
    {
      "cell_type": "code",
      "execution_count": 690,
      "metadata": {
        "colab": {
          "base_uri": "https://localhost:8080/"
        },
        "id": "uudzBRFDCIJ9",
        "outputId": "41f28339-e750-4dfc-b58a-9877d536a764"
      },
      "outputs": [
        {
          "output_type": "execute_result",
          "data": {
            "text/plain": [
              "35000"
            ]
          },
          "metadata": {},
          "execution_count": 690
        }
      ],
      "source": [
        "new_memo['Salary']"
      ]
    },
    {
      "cell_type": "code",
      "execution_count": 691,
      "metadata": {
        "id": "p_-nf7isBYLf"
      },
      "outputs": [],
      "source": [
        "new_memo['Salary']=55000"
      ]
    },
    {
      "cell_type": "code",
      "execution_count": 692,
      "metadata": {
        "colab": {
          "base_uri": "https://localhost:8080/"
        },
        "id": "mV5I0C-6Bh34",
        "outputId": "2344ab95-a029-4352-89d2-4dc9ab034a8d"
      },
      "outputs": [
        {
          "output_type": "stream",
          "name": "stdout",
          "text": [
            "{'Name': 'Bob', 'Age': 39, 'Salary': 55000, 'City': 'New York', 'Designation': 'Saftware Engg.'}\n"
          ]
        }
      ],
      "source": [
        "print(new_memo)"
      ]
    },
    {
      "cell_type": "code",
      "source": [
        "del new_memo['Age']"
      ],
      "metadata": {
        "id": "lMLvTAreFJPV"
      },
      "execution_count": 693,
      "outputs": []
    },
    {
      "cell_type": "code",
      "source": [
        "print(new_memo)"
      ],
      "metadata": {
        "colab": {
          "base_uri": "https://localhost:8080/"
        },
        "id": "uRPvewxQFzuL",
        "outputId": "b2ed033d-4623-4432-d27a-0da42a9e9125"
      },
      "execution_count": 694,
      "outputs": [
        {
          "output_type": "stream",
          "name": "stdout",
          "text": [
            "{'Name': 'Bob', 'Salary': 55000, 'City': 'New York', 'Designation': 'Saftware Engg.'}\n"
          ]
        }
      ]
    },
    {
      "cell_type": "markdown",
      "source": [
        " Sets"
      ],
      "metadata": {
        "id": "alncuSt_NRck"
      }
    },
    {
      "cell_type": "code",
      "source": [
        "s={1,2,3,'India','Russia'}"
      ],
      "metadata": {
        "id": "SfVrNEAhF2kY"
      },
      "execution_count": 697,
      "outputs": []
    },
    {
      "cell_type": "code",
      "source": [
        "print(s)"
      ],
      "metadata": {
        "colab": {
          "base_uri": "https://localhost:8080/"
        },
        "id": "iVHktA2TNd9z",
        "outputId": "4525929d-8939-4dca-e2dd-c0a4101c8421"
      },
      "execution_count": 698,
      "outputs": [
        {
          "output_type": "stream",
          "name": "stdout",
          "text": [
            "{1, 2, 3, 'Russia', 'India'}\n"
          ]
        }
      ]
    },
    {
      "cell_type": "code",
      "source": [
        "type(s)"
      ],
      "metadata": {
        "colab": {
          "base_uri": "https://localhost:8080/"
        },
        "id": "rl9FDXDqNgHc",
        "outputId": "998ab931-12ce-44c6-8f96-dd1402ca58e5"
      },
      "execution_count": 699,
      "outputs": [
        {
          "output_type": "execute_result",
          "data": {
            "text/plain": [
              "set"
            ]
          },
          "metadata": {},
          "execution_count": 699
        }
      ]
    },
    {
      "cell_type": "code",
      "source": [
        "s.add(10)"
      ],
      "metadata": {
        "id": "pSkqO9Y1Nqf_"
      },
      "execution_count": 700,
      "outputs": []
    },
    {
      "cell_type": "code",
      "source": [
        "print(s)"
      ],
      "metadata": {
        "colab": {
          "base_uri": "https://localhost:8080/"
        },
        "id": "W4CEsL_WOJ1U",
        "outputId": "adf029dc-7ac5-48db-fdb6-79991e966343"
      },
      "execution_count": 701,
      "outputs": [
        {
          "output_type": "stream",
          "name": "stdout",
          "text": [
            "{1, 2, 3, 'Russia', 'India', 10}\n"
          ]
        }
      ]
    },
    {
      "cell_type": "code",
      "source": [
        "s.add('Pakistan')"
      ],
      "metadata": {
        "id": "2kcwAl9uOLoE"
      },
      "execution_count": 702,
      "outputs": []
    },
    {
      "cell_type": "code",
      "source": [
        "print(s)"
      ],
      "metadata": {
        "colab": {
          "base_uri": "https://localhost:8080/"
        },
        "id": "HsFQcxw6OR7k",
        "outputId": "b1d5ab86-143d-4dfa-cec9-c2f3cd5e3ff6"
      },
      "execution_count": 703,
      "outputs": [
        {
          "output_type": "stream",
          "name": "stdout",
          "text": [
            "{1, 2, 3, 'Russia', 'India', 10, 'Pakistan'}\n"
          ]
        }
      ]
    },
    {
      "cell_type": "code",
      "source": [
        "s.discard('Pakistan')"
      ],
      "metadata": {
        "id": "A220W_AkOTKM"
      },
      "execution_count": 704,
      "outputs": []
    },
    {
      "cell_type": "code",
      "source": [
        "print(s)"
      ],
      "metadata": {
        "colab": {
          "base_uri": "https://localhost:8080/"
        },
        "id": "Uwk_10eUOaS9",
        "outputId": "af60db6a-4bb6-4e3f-b040-266e51de65e9"
      },
      "execution_count": 705,
      "outputs": [
        {
          "output_type": "stream",
          "name": "stdout",
          "text": [
            "{1, 2, 3, 'Russia', 'India', 10}\n"
          ]
        }
      ]
    },
    {
      "cell_type": "markdown",
      "source": [
        "Boolean"
      ],
      "metadata": {
        "id": "B8tesmShOhmO"
      }
    },
    {
      "cell_type": "code",
      "source": [
        "a=10\n",
        "b=20\n",
        "print(a>b)"
      ],
      "metadata": {
        "colab": {
          "base_uri": "https://localhost:8080/"
        },
        "id": "Lyre7HwpOcAV",
        "outputId": "fabe9360-a9a1-4f1e-df5e-8cff118ad7e4"
      },
      "execution_count": 706,
      "outputs": [
        {
          "output_type": "stream",
          "name": "stdout",
          "text": [
            "False\n"
          ]
        }
      ]
    },
    {
      "cell_type": "code",
      "source": [
        "type(a>b)"
      ],
      "metadata": {
        "colab": {
          "base_uri": "https://localhost:8080/"
        },
        "id": "PTUzl1Q5OsWd",
        "outputId": "d6c0fa21-37de-47ff-cf17-e84f60cb5f3f"
      },
      "execution_count": 707,
      "outputs": [
        {
          "output_type": "execute_result",
          "data": {
            "text/plain": [
              "bool"
            ]
          },
          "metadata": {},
          "execution_count": 707
        }
      ]
    },
    {
      "cell_type": "code",
      "source": [
        "print(a<b)"
      ],
      "metadata": {
        "colab": {
          "base_uri": "https://localhost:8080/"
        },
        "id": "EugQ_3d0Ov4U",
        "outputId": "eb58b741-9969-463c-f7f6-5e40fced8824"
      },
      "execution_count": 708,
      "outputs": [
        {
          "output_type": "stream",
          "name": "stdout",
          "text": [
            "True\n"
          ]
        }
      ]
    },
    {
      "cell_type": "code",
      "source": [
        "type(a<b)"
      ],
      "metadata": {
        "colab": {
          "base_uri": "https://localhost:8080/"
        },
        "id": "0dvZs9L_O0Lb",
        "outputId": "46a51feb-227b-426c-c4de-a3d03ca841da"
      },
      "execution_count": 709,
      "outputs": [
        {
          "output_type": "execute_result",
          "data": {
            "text/plain": [
              "bool"
            ]
          },
          "metadata": {},
          "execution_count": 709
        }
      ]
    },
    {
      "cell_type": "code",
      "source": [],
      "metadata": {
        "id": "Af7xy5N4O4Bz"
      },
      "execution_count": null,
      "outputs": []
    }
  ],
  "metadata": {
    "colab": {
      "provenance": []
    },
    "kernelspec": {
      "display_name": "Python 3",
      "name": "python3"
    },
    "language_info": {
      "name": "python"
    }
  },
  "nbformat": 4,
  "nbformat_minor": 0
}