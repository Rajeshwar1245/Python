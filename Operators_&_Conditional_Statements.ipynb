{
  "cells": [
    {
      "cell_type": "markdown",
      "metadata": {
        "id": "mKtry1fFOSwJ"
      },
      "source": [
        "Input() and Type casting"
      ]
    },
    {
      "cell_type": "code",
      "execution_count": null,
      "metadata": {
        "id": "OQ6scv6aIu-o"
      },
      "outputs": [],
      "source": [
        "a=10 #hard coded"
      ]
    },
    {
      "cell_type": "code",
      "execution_count": null,
      "metadata": {
        "colab": {
          "base_uri": "https://localhost:8080/"
        },
        "id": "nHG8R1AGJRIt",
        "outputId": "afacbbf7-b005-4feb-c9e2-2c69d35dc107"
      },
      "outputs": [
        {
          "name": "stdout",
          "output_type": "stream",
          "text": [
            "Enter your namerk\n"
          ]
        }
      ],
      "source": [
        "name=input(\"Enter your name\") #bydefault the database will always be string nature."
      ]
    },
    {
      "cell_type": "code",
      "execution_count": null,
      "metadata": {
        "colab": {
          "base_uri": "https://localhost:8080/"
        },
        "id": "e6dOWuTVJfsc",
        "outputId": "74848288-a679-49f1-ee31-e2c25ca460bc"
      },
      "outputs": [
        {
          "output_type": "stream",
          "name": "stdout",
          "text": [
            "rk\n"
          ]
        }
      ],
      "source": [
        "print(name)"
      ]
    },
    {
      "cell_type": "code",
      "execution_count": null,
      "metadata": {
        "colab": {
          "base_uri": "https://localhost:8080/"
        },
        "id": "gYaTqnfbJodT",
        "outputId": "f75efa54-09a8-4e44-c140-27ccae5583b6"
      },
      "outputs": [
        {
          "output_type": "execute_result",
          "data": {
            "text/plain": [
              "str"
            ]
          },
          "metadata": {},
          "execution_count": 4
        }
      ],
      "source": [
        "type(name)"
      ]
    },
    {
      "cell_type": "code",
      "execution_count": null,
      "metadata": {
        "id": "3bDBl3Z-Jqr7"
      },
      "outputs": [],
      "source": [
        "#Typecasting -- a restriction on top of the input()"
      ]
    },
    {
      "cell_type": "code",
      "execution_count": null,
      "metadata": {
        "colab": {
          "base_uri": "https://localhost:8080/"
        },
        "id": "-SDHZtQnKNTq",
        "outputId": "b0c002cd-95a0-449d-caa7-5da07a82fb29"
      },
      "outputs": [
        {
          "name": "stdout",
          "output_type": "stream",
          "text": [
            "Enter your four OTP1234\n"
          ]
        }
      ],
      "source": [
        "otp=int(input(\"Enter your four OTP\")) #int() restriction on top of input() which helps in accepting only int i/p"
      ]
    },
    {
      "cell_type": "code",
      "execution_count": null,
      "metadata": {
        "colab": {
          "base_uri": "https://localhost:8080/"
        },
        "id": "RKLJngPVMEAA",
        "outputId": "3e957757-e229-4623-c60a-4bc8b26232fa"
      },
      "outputs": [
        {
          "output_type": "stream",
          "name": "stdout",
          "text": [
            "1234\n"
          ]
        }
      ],
      "source": [
        "print(otp)"
      ]
    },
    {
      "cell_type": "code",
      "execution_count": null,
      "metadata": {
        "colab": {
          "base_uri": "https://localhost:8080/"
        },
        "id": "l5SG0vBmMO_o",
        "outputId": "b6b80d27-d48f-4faa-91e4-2e5a503f7657"
      },
      "outputs": [
        {
          "output_type": "execute_result",
          "data": {
            "text/plain": [
              "int"
            ]
          },
          "metadata": {},
          "execution_count": 8
        }
      ],
      "source": [
        "type(otp)"
      ]
    },
    {
      "cell_type": "code",
      "execution_count": null,
      "metadata": {
        "id": "50p8QT6TMQ1X",
        "colab": {
          "base_uri": "https://localhost:8080/"
        },
        "outputId": "13206f15-5024-4e64-aca5-a127e4ac6398"
      },
      "outputs": [
        {
          "name": "stdout",
          "output_type": "stream",
          "text": [
            "Enter temp of your City44.5\n"
          ]
        }
      ],
      "source": [
        "temp=float(input(\"Enter temp of your City\"))"
      ]
    },
    {
      "cell_type": "code",
      "execution_count": null,
      "metadata": {
        "id": "xLnAttfdNBIl",
        "colab": {
          "base_uri": "https://localhost:8080/"
        },
        "outputId": "66f21681-369d-4788-964b-1f730bc88bf9"
      },
      "outputs": [
        {
          "output_type": "stream",
          "name": "stdout",
          "text": [
            "44.5\n"
          ]
        }
      ],
      "source": [
        "print(temp)"
      ]
    },
    {
      "cell_type": "code",
      "execution_count": null,
      "metadata": {
        "id": "INRkGpIlNHEM",
        "colab": {
          "base_uri": "https://localhost:8080/"
        },
        "outputId": "36ff6a04-93f6-474d-a180-0033058efde0"
      },
      "outputs": [
        {
          "output_type": "execute_result",
          "data": {
            "text/plain": [
              "float"
            ]
          },
          "metadata": {},
          "execution_count": 11
        }
      ],
      "source": [
        "type(temp)"
      ]
    },
    {
      "cell_type": "markdown",
      "metadata": {
        "id": "jv6w_OhIOATX"
      },
      "source": [
        "Operators\n",
        "\n",
        "1. Arithmatic operator\n",
        "\n",
        "2. Assignment operator\n",
        "\n",
        "3. Logical operator\n",
        "\n",
        "4. Comparison operator"
      ]
    },
    {
      "cell_type": "code",
      "execution_count": null,
      "metadata": {
        "id": "PWefPmCQNJYk",
        "colab": {
          "base_uri": "https://localhost:8080/"
        },
        "outputId": "45a5bf50-9d38-4d47-ce38-596da229acb4"
      },
      "outputs": [
        {
          "output_type": "stream",
          "name": "stdout",
          "text": [
            "30\n",
            "-10\n",
            "200\n",
            "0.5\n",
            "0\n"
          ]
        }
      ],
      "source": [
        "#arithmatic operator\n",
        "num_1=10\n",
        "num_2=20\n",
        "\n",
        "print(num_1+num_2)\n",
        "print(num_1-num_2)\n",
        "print(num_1*num_2)\n",
        "print(num_1/num_2) #single forward slash -- float division\n",
        "print(num_1//num_2) #double forward slash -- integer dividion"
      ]
    },
    {
      "cell_type": "code",
      "execution_count": null,
      "metadata": {
        "id": "BpBhHMS_PhMx",
        "colab": {
          "base_uri": "https://localhost:8080/"
        },
        "outputId": "8bf16892-909e-491d-e813-21861c04932e"
      },
      "outputs": [
        {
          "output_type": "stream",
          "name": "stdout",
          "text": [
            "32\n"
          ]
        }
      ],
      "source": [
        "a=2 #raise the power of 2 by 5 -- 2^5\n",
        "print(a**5) #base**power"
      ]
    },
    {
      "cell_type": "code",
      "execution_count": null,
      "metadata": {
        "id": "OLH3-FpfQuH9",
        "colab": {
          "base_uri": "https://localhost:8080/"
        },
        "outputId": "87399fc3-0ae3-4c6b-9dff-fe9b34e61af7"
      },
      "outputs": [
        {
          "output_type": "stream",
          "name": "stdout",
          "text": [
            "1341068619663964900807\n"
          ]
        }
      ],
      "source": [
        "b=7 #raise the power of 7 by25 -- 7^25\n",
        "print(b**25)"
      ]
    },
    {
      "cell_type": "markdown",
      "metadata": {
        "id": "1H7LE3KyRrzO"
      },
      "source": [
        "% modulo operator"
      ]
    },
    {
      "cell_type": "code",
      "execution_count": null,
      "metadata": {
        "id": "KLGlf9kFQ4BF",
        "colab": {
          "base_uri": "https://localhost:8080/"
        },
        "outputId": "fe497112-3359-4929-99b0-9c6e7a7a3ada"
      },
      "outputs": [
        {
          "output_type": "stream",
          "name": "stdout",
          "text": [
            "1\n"
          ]
        }
      ],
      "source": [
        "a=10\n",
        "b=3\n",
        "\n",
        "print(a%b) #a and b will be divided and the remained of the division operation will be displayed"
      ]
    },
    {
      "cell_type": "code",
      "execution_count": null,
      "metadata": {
        "id": "xjX7738kSR2w",
        "colab": {
          "base_uri": "https://localhost:8080/"
        },
        "outputId": "13f61842-9f4e-4b09-d6a3-ef79bef75164"
      },
      "outputs": [
        {
          "output_type": "stream",
          "name": "stdout",
          "text": [
            "0\n"
          ]
        }
      ],
      "source": [
        "a=10\n",
        "b=2\n",
        "\n",
        "print(a%b)"
      ]
    },
    {
      "cell_type": "code",
      "execution_count": null,
      "metadata": {
        "id": "_Pv2CylmSZz_"
      },
      "outputs": [],
      "source": [
        "#comparison operator\n",
        "a=10\n",
        "b=20"
      ]
    },
    {
      "cell_type": "code",
      "execution_count": null,
      "metadata": {
        "id": "XM19NZ4ISxLZ",
        "colab": {
          "base_uri": "https://localhost:8080/"
        },
        "outputId": "24c1a912-bc70-4abc-e88f-685f7b5d956a"
      },
      "outputs": [
        {
          "output_type": "stream",
          "name": "stdout",
          "text": [
            "False\n",
            "True\n",
            "False\n",
            "True\n",
            "False\n",
            "True\n"
          ]
        }
      ],
      "source": [
        "print(a>b)\n",
        "print(a<b)\n",
        "print(a>=b)\n",
        "print(a<=b)\n",
        "print(a==b)\n",
        "print(a!=b) #not equal to"
      ]
    },
    {
      "cell_type": "code",
      "execution_count": null,
      "metadata": {
        "id": "YNmIiIKoTL8w"
      },
      "outputs": [],
      "source": [
        "#Logical operator -- AND, OR, NOT"
      ]
    },
    {
      "cell_type": "code",
      "execution_count": null,
      "metadata": {
        "id": "ahGPkSlfUp_E",
        "colab": {
          "base_uri": "https://localhost:8080/"
        },
        "outputId": "3c960e07-9d56-4607-801b-a7e06b1239d2"
      },
      "outputs": [
        {
          "output_type": "stream",
          "name": "stdout",
          "text": [
            "True\n",
            "False\n",
            "False\n",
            "False\n"
          ]
        }
      ],
      "source": [
        "print(True and True)\n",
        "print(True and False)\n",
        "print(False and True)\n",
        "print(False and False)"
      ]
    },
    {
      "cell_type": "code",
      "execution_count": null,
      "metadata": {
        "id": "0r3tgIufU_KU",
        "colab": {
          "base_uri": "https://localhost:8080/"
        },
        "outputId": "3c57d284-ab9b-4f3e-cdc1-887d38d7ac2c"
      },
      "outputs": [
        {
          "output_type": "stream",
          "name": "stdout",
          "text": [
            "True\n",
            "True\n",
            "True\n",
            "False\n"
          ]
        }
      ],
      "source": [
        "print(True or True)\n",
        "print(True or False)\n",
        "print(False or True)\n",
        "print(False or False)"
      ]
    },
    {
      "cell_type": "code",
      "execution_count": null,
      "metadata": {
        "id": "i9wUnwfVVIal",
        "colab": {
          "base_uri": "https://localhost:8080/"
        },
        "outputId": "b65d75a7-65e1-42ca-bb86-e29a45db8ac0"
      },
      "outputs": [
        {
          "output_type": "stream",
          "name": "stdout",
          "text": [
            "True\n"
          ]
        }
      ],
      "source": [
        "print(not False)"
      ]
    },
    {
      "cell_type": "code",
      "execution_count": null,
      "metadata": {
        "id": "ggl0SDxRVO58",
        "colab": {
          "base_uri": "https://localhost:8080/"
        },
        "outputId": "15098e97-c363-489f-df22-f7718c77066b"
      },
      "outputs": [
        {
          "output_type": "stream",
          "name": "stdout",
          "text": [
            "False\n"
          ]
        }
      ],
      "source": [
        "print(not True)"
      ]
    },
    {
      "cell_type": "code",
      "execution_count": null,
      "metadata": {
        "id": "nCBOZ4MRVR1M",
        "colab": {
          "base_uri": "https://localhost:8080/"
        },
        "outputId": "a2de98c9-6c63-453b-8b13-3a9393f3e685"
      },
      "outputs": [
        {
          "output_type": "stream",
          "name": "stdout",
          "text": [
            "True\n"
          ]
        }
      ],
      "source": [
        "print(not 5>7)"
      ]
    },
    {
      "cell_type": "code",
      "execution_count": null,
      "metadata": {
        "id": "M9rSE5GKVXuD"
      },
      "outputs": [],
      "source": [
        "#Conditional Statements"
      ]
    },
    {
      "cell_type": "markdown",
      "metadata": {
        "id": "iJ95TCMjjRgr"
      },
      "source": [
        "Take a number as input from the user and cheak if the number is greater than 15 or not"
      ]
    },
    {
      "cell_type": "code",
      "execution_count": null,
      "metadata": {
        "id": "PPrCAKzHVl_r",
        "colab": {
          "base_uri": "https://localhost:8080/"
        },
        "outputId": "f31884ba-fd49-4413-92ac-62a0f958e3ad"
      },
      "outputs": [
        {
          "output_type": "stream",
          "name": "stdout",
          "text": [
            "Enter a number45\n",
            "num is greater than 15\n"
          ]
        }
      ],
      "source": [
        "num=int(input(\"Enter a number\"))\n",
        "\n",
        "if num>15:\n",
        "  print(\"num is greater than 15\")\n",
        "\n",
        "else:\n",
        "  print(\"num is less than 15\")"
      ]
    },
    {
      "cell_type": "markdown",
      "metadata": {
        "id": "ydVWajyukcxX"
      },
      "source": [
        "Take a number 'x' and 'y' as input from the user and cheak which number is greater"
      ]
    },
    {
      "cell_type": "code",
      "execution_count": null,
      "metadata": {
        "id": "d-s0IqN9kO0M",
        "colab": {
          "base_uri": "https://localhost:8080/"
        },
        "outputId": "8fec3a57-9736-4819-8867-245417f84bdf"
      },
      "outputs": [
        {
          "output_type": "stream",
          "name": "stdout",
          "text": [
            "Enter x value123\n",
            "Enter y value23\n",
            "x is greater than y\n"
          ]
        }
      ],
      "source": [
        "n1=int(input(\"Enter x value\"))\n",
        "n2=int(input(\"Enter y value\"))\n",
        "\n",
        "if n1>n2:\n",
        "  print(\"x is greater than y\")\n",
        "\n",
        "else:\n",
        "  print(\"x is less than y\")"
      ]
    },
    {
      "cell_type": "code",
      "execution_count": null,
      "metadata": {
        "id": "R-JDnmo8lpSR",
        "colab": {
          "base_uri": "https://localhost:8080/"
        },
        "outputId": "4a35fd4f-05a7-46f4-fb81-17a8bf25430a"
      },
      "outputs": [
        {
          "output_type": "stream",
          "name": "stdout",
          "text": [
            "Enter x value45\n",
            "Enter y value12\n",
            "x is greater than y\n"
          ]
        }
      ],
      "source": [
        "n1=int(input(\"Enter x value\"))\n",
        "n2=int(input(\"Enter y value\"))\n",
        "\n",
        "if n1>n2:\n",
        "  print(\"x is greater than y\")\n",
        "\n",
        "elif n1==n2:\n",
        "  print(\"both x and y are same\")\n",
        "\n",
        "else:\n",
        "  print(\"x is less than y\")"
      ]
    },
    {
      "cell_type": "markdown",
      "metadata": {
        "id": "R3kf5jIBoFbn"
      },
      "source": [
        "Take age of candidate as input from the user and check if the candidate is eligible for voting or not (voting age >=18 years)"
      ]
    },
    {
      "cell_type": "code",
      "execution_count": null,
      "metadata": {
        "id": "rsYSOlBlmzsu",
        "colab": {
          "base_uri": "https://localhost:8080/"
        },
        "outputId": "7e3444c3-6e7e-4da9-9b5b-c5c4583d326d"
      },
      "outputs": [
        {
          "output_type": "stream",
          "name": "stdout",
          "text": [
            "Enter your Age23\n",
            "you are eligible for voting\n"
          ]
        }
      ],
      "source": [
        "a=int(input(\"Enter your Age\"))\n",
        "\n",
        "if a>=18:\n",
        "  print(\"you are eligible for voting\")\n",
        "\n",
        "else:\n",
        "  print(\"you are not eligible for voting\")"
      ]
    },
    {
      "cell_type": "markdown",
      "metadata": {
        "id": "3gFbwVZlp1N0"
      },
      "source": [
        "Take marks as input from the user and given grades to students in the format;\n",
        "\n",
        "marks more than or equal to 90 -- A\n",
        "marks more than or equal to 80 -- B\n",
        "marks more than or equal to 70 -- C\n",
        "marks more than or equal to 60 -- D\n",
        "marks less than 60 -- study hard"
      ]
    },
    {
      "cell_type": "code",
      "execution_count": null,
      "metadata": {
        "id": "hhsoH4WgsWdt",
        "colab": {
          "base_uri": "https://localhost:8080/"
        },
        "outputId": "424bdb04-e26f-4fc0-a474-b0994b1647a6"
      },
      "outputs": [
        {
          "output_type": "stream",
          "name": "stdout",
          "text": [
            "Enter your marks72\n",
            "grade C\n"
          ]
        }
      ],
      "source": [
        "m=int(input(\"Enter your marks\"))\n",
        "\n",
        "if m>=90:\n",
        "  print(\"grade A\")\n",
        "\n",
        "elif m>=80:\n",
        "  print(\"grade B\")\n",
        "\n",
        "elif m>=70:\n",
        "  print(\"grade C\")\n",
        "\n",
        "elif m>=60:\n",
        "  print(\"grade D\")\n",
        "\n",
        "else:\n",
        "  print(\"study hard\")"
      ]
    },
    {
      "cell_type": "markdown",
      "metadata": {
        "id": "sLLKaljss_Cj"
      },
      "source": [
        "In a fare, the entry fee for children less than 4 years of age is free, the entry of children between 4 to 16 years in 100 rupees and the entry of people above 16 years is 175 rupees.\n",
        "\n",
        "Take age as input from user and children the calculate the entry fee based on the age provied."
      ]
    },
    {
      "cell_type": "code",
      "execution_count": null,
      "metadata": {
        "id": "J1ppWu-Tsd4Z",
        "colab": {
          "base_uri": "https://localhost:8080/"
        },
        "outputId": "946f4497-6f6a-45aa-d4bf-e786abf74387"
      },
      "outputs": [
        {
          "output_type": "stream",
          "name": "stdout",
          "text": [
            "Enter your age23\n",
            "Entry fee is 175 rupees\n"
          ]
        }
      ],
      "source": [
        "a=int(input(\"Enter your age\"))\n",
        "\n",
        "if a<4:\n",
        "  print(\"free Entry\")\n",
        "\n",
        "elif a>=4 and a<=16:\n",
        "  print(\"Entry fee is 100 rupees\")\n",
        "\n",
        "else:\n",
        "  print(\"Entry fee is 175 rupees\")"
      ]
    },
    {
      "cell_type": "markdown",
      "source": [
        "Take a number as input from the user and check if the number is even or odd"
      ],
      "metadata": {
        "id": "kORwY8FCgr7B"
      }
    },
    {
      "cell_type": "code",
      "execution_count": null,
      "metadata": {
        "id": "GmIg-n9bv5Pp",
        "colab": {
          "base_uri": "https://localhost:8080/"
        },
        "outputId": "1133ca31-0e7d-4f30-916d-1b91b6372d33"
      },
      "outputs": [
        {
          "output_type": "stream",
          "name": "stdout",
          "text": [
            "Enter a number8\n",
            "num is even\n"
          ]
        }
      ],
      "source": [
        "#even -- the number is perfectly divisible by 2 -- the remainder should be 0\n",
        "\n",
        "num=int(input(\"Enter a number\"))\n",
        "\n",
        "if num%2==0: #num when gets div by 2 given 0 as remainder\n",
        "  print(\"num is even\")\n",
        "\n",
        "else:\n",
        "  print(\"num is odd\")"
      ]
    },
    {
      "cell_type": "code",
      "source": [
        "#odd -- the number is not perfectly divisible by 2\n",
        "\n",
        "num=int(input(\"Enter a number\"))\n",
        "\n",
        "if num%2!=0:\n",
        "  print(\"num is odd\")\n",
        "\n",
        "else:\n",
        "  print(\"num is even\")"
      ],
      "metadata": {
        "colab": {
          "base_uri": "https://localhost:8080/"
        },
        "id": "8giY3iTOhlkh",
        "outputId": "0147f765-acb7-4cc4-a9f8-4b9eaedc819f"
      },
      "execution_count": null,
      "outputs": [
        {
          "output_type": "stream",
          "name": "stdout",
          "text": [
            "Enter a number9\n",
            "num is odd\n"
          ]
        }
      ]
    },
    {
      "cell_type": "markdown",
      "source": [
        "The owner of a company decided to given a bonus of 5% to employees who have been working in this company for the past 5 years or more.\n",
        "\n",
        "Take current salary and years of experience with the current organization as input from the user and display the incremented salary (if any)"
      ],
      "metadata": {
        "id": "1HCSNKtJjfO_"
      }
    },
    {
      "cell_type": "code",
      "source": [
        "salary=int(input(\"Enter your current salary\"))\n",
        "exp=int(input(\"Enter your years of experience\"))\n",
        "\n",
        "if exp>=5:\n",
        "  print(\"your incremented salary is\",salary+(salary*0.05))\n",
        "\n",
        "else:\n",
        "  print(\"no increment in the salary, your salary is\",salary)"
      ],
      "metadata": {
        "colab": {
          "base_uri": "https://localhost:8080/"
        },
        "id": "pF0Mo1kqoGiM",
        "outputId": "b280f7c8-abec-47e3-a203-ceff02491af3"
      },
      "execution_count": null,
      "outputs": [
        {
          "output_type": "stream",
          "name": "stdout",
          "text": [
            "Enter your current salary10000\n",
            "Enter your years of experience4\n",
            "no increment in the salary, your salary is 10000\n"
          ]
        }
      ]
    },
    {
      "cell_type": "markdown",
      "source": [
        "2 June"
      ],
      "metadata": {
        "id": "Tiiax78kBkF1"
      }
    },
    {
      "cell_type": "markdown",
      "source": [
        "Take a number as input from the user and check if the number is greater than 10 or not. Just in case the number is greater than 10, check if the number is greater than 20 also or not."
      ],
      "metadata": {
        "id": "BC9jw2usFy-x"
      }
    },
    {
      "cell_type": "code",
      "source": [
        "x=int(input(\"Enter a number\"))\n",
        "\n",
        "if x>10:\n",
        "\n",
        "  if x>20:\n",
        "    print(\"x is greater than 20\")\n",
        "\n",
        "  else:\n",
        "    print(\"x is greater than 10 but less than 20\")\n",
        "\n",
        "else:\n",
        "  print(\"x is less than 10\")"
      ],
      "metadata": {
        "colab": {
          "base_uri": "https://localhost:8080/"
        },
        "id": "ZobvgT6_Dxh2",
        "outputId": "8991b2c5-4701-461b-e1f8-e0a8b2e947af"
      },
      "execution_count": 12,
      "outputs": [
        {
          "output_type": "stream",
          "name": "stdout",
          "text": [
            "Enter a number6\n",
            "x is less than 10\n"
          ]
        }
      ]
    },
    {
      "cell_type": "markdown",
      "source": [
        "Take a number as input from the user and check if the number is 0 or +ve or -ve using nested statements"
      ],
      "metadata": {
        "id": "bP9ps9lrHgdY"
      }
    },
    {
      "cell_type": "code",
      "source": [
        "x=int(input(\"Enter a number\"))\n",
        "\n",
        "if x>=0:\n",
        "\n",
        "  if x>0:\n",
        "    print(\"x is +ve\")\n",
        "\n",
        "  else:\n",
        "    print(\"x is equal to 0\")\n",
        "\n",
        "else:\n",
        "  print(\"x is -ve\")"
      ],
      "metadata": {
        "colab": {
          "base_uri": "https://localhost:8080/"
        },
        "id": "UphvYoEaHHfH",
        "outputId": "0d14f56c-eca7-4f1e-c078-940334f65ef0"
      },
      "execution_count": 15,
      "outputs": [
        {
          "output_type": "stream",
          "name": "stdout",
          "text": [
            "Enter a number-2\n",
            "x is -ve\n"
          ]
        }
      ]
    },
    {
      "cell_type": "code",
      "source": [],
      "metadata": {
        "id": "32K-FNt9Io7a"
      },
      "execution_count": null,
      "outputs": []
    }
  ],
  "metadata": {
    "colab": {
      "provenance": []
    },
    "kernelspec": {
      "display_name": "Python 3",
      "name": "python3"
    },
    "language_info": {
      "name": "python"
    }
  },
  "nbformat": 4,
  "nbformat_minor": 0
}